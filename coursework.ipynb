{
 "cells": [
  {
   "cell_type": "markdown",
   "metadata": {
    "tags": []
   },
   "source": [
    "# Курсовой проект\n",
    "### Сравнительный анализ эффективности различных типов молекулярных дескрипторов для предсказания свойств молекул\n",
    "#### Дашкевич Матвей"
   ]
  },
  {
   "cell_type": "markdown",
   "metadata": {
    "tags": []
   },
   "source": [
    "## Введение"
   ]
  },
  {
   "cell_type": "markdown",
   "metadata": {},
   "source": [
    "Разработка лекарств --- это долгий и дорогой процесс. Консалтинговые компании оценивают, что для разработки успешного препарата нужно потратить несколько миллиардов долларов, и занимает это обычно свыше 10 лет."
   ]
  },
  {
   "cell_type": "markdown",
   "metadata": {},
   "source": [
    "У процесса разработки лекарств можно выделить следующие стадии:\n",
    "- Поиск мишени --- макромолекулы (обычно белка), связанному с определённой функцией, нарушение которой приводит к заболеванию.\n",
    "- Поиск лигандов --- молекул, способных связываться с мишенью (потенциальных лекарств).\n",
    "- Оптимизация лигандов (из найденных лигандов отбираются удовлетворяющие неким свойствам, лиганды модифицируются).\n",
    "- Доклинические испытания, в ходе которых оценивается токсичность, мутагенность, тератогенность и другие нежелательные эффекты.\n",
    "- Клинические испытания --- проверка лекарств на людях."
   ]
  },
  {
   "cell_type": "markdown",
   "metadata": {},
   "source": [
    "<figure>\n",
    "    <img src=\"images/pipeline.png\" width=\"1000\" alt=\"pipeline\">\n",
    "    <figcaption>Процесс разработки лекарств</figcaption>\n",
    "</figure>"
   ]
  },
  {
   "cell_type": "markdown",
   "metadata": {},
   "source": [
    "В последние годы на помощь традиционным методам разработки лекарств приходит машинное обучение  ---  дисциплина о компьютерных алгоритмах, улучшающихся посредством опыта и использования данных, для того, чтобы делать предсказания или принимать решения не будучи явно запрогаммированы это делать."
   ]
  },
  {
   "cell_type": "markdown",
   "metadata": {},
   "source": [
    "Примеры использования машинного обучения в разработке лекарств: \n",
    "- Идентификация и приоритезация мишени, основываясь на взаимосвязи генов и болезней.\n",
    "- Предсказание того, будет ли мишень хорошо связываться с лигандом.\n",
    "- Идентификация альтернативной мишени.\n",
    "- Конструирование лиганда с заданными свойствами.\n",
    "- Виртуальный скриниг, в частности молекулярный докинг."
   ]
  },
  {
   "cell_type": "markdown",
   "metadata": {},
   "source": [
    "Методы машинного обучения значительно расширяют возможности фармацевтической индустрии, ускоряя и удешевляя создание новых терапевтических средств, а зачастую и позволяя в принципе приблизиться к лечению важнейших заболеваний."
   ]
  },
  {
   "cell_type": "markdown",
   "metadata": {},
   "source": [
    "Для того, чтобы можно было применить к молекулам потенциальных лекарств методы машинного обучения, требуется определённым образом эти молекулы закодировать, например в виде вектора из чисел. Способы такого представления молекул называются молекулярными дескрипторами."
   ]
  },
  {
   "cell_type": "markdown",
   "metadata": {},
   "source": [
    "Встаёт следующий вопрос: какие способы представления молекул лучше всего подходят для решения той или иной задачи предсказания свойств молекул. В ходе этой работы будет проведено сравнение некоторых таких способов (а именно: дескрипторов MACCS и Morgan для решения задачи предсказания энергии связывания мишени с лигандом. Энергия связывания показывает, насколько хорошо лиганд стыкуется с мишенью. В качестве мишени будет рассмотрен белок gp120 --- наружный белок вируса иммунодефицита человека, играющий важную роль в процессе проникновения вируса в клетку."
   ]
  },
  {
   "cell_type": "markdown",
   "metadata": {},
   "source": [
    "<figure>\n",
    "    <img src=\"images/gp120.png\" width=\"500\" alt=\"hiv\">\n",
    "    <figcaption>Строение ВИЧ</figcaption>\n",
    "</figure>"
   ]
  },
  {
   "cell_type": "markdown",
   "metadata": {
    "tags": []
   },
   "source": [
    "## Способы представления молекул"
   ]
  },
  {
   "cell_type": "markdown",
   "metadata": {},
   "source": [
    "### SMILES"
   ]
  },
  {
   "cell_type": "markdown",
   "metadata": {},
   "source": [
    "SMILES (Simplified Molecular Input Line Entry System) --- система правил однозначного описания состава и структуры молекулы химического вещества с использованием строки символов ASCII. Строка символов, составленная по правилам SMILES, может быть преобразована многими молекулярными редакторами в двумерную или трёхмерную структурную формулу молекулы."
   ]
  },
  {
   "cell_type": "markdown",
   "metadata": {},
   "source": [
    "Основные принципы SMILES:\n",
    "- Записи SMILES компактны, в них нет пробелов.\n",
    "- SMILES --- это язык с определённым словарём, синтаксисом и семантикой. То есть он независим от использующих его компьютерных систем и языков.\n",
    "- SMILES представляет структуру в терминах атомов и связей, базовых составляющих, что позволяет ему быть *lingua franca* для других способов представления молекул. \n",
    "- SMILES использует для записи атомов только символы из переодической таблицы.\n",
    "- SMILES использует символы дефиса, равенства и решётку для записи связей: одинарных, двойных и тройных соответственно. Дополнительно точка обозначает отсутствие связи.\n",
    "- Атомы в составе ароматических циклов обычно записываются строчными буквами вместо прописных.\n",
    "- Боковые цепи молекулы заключаются в круглые скобки. Например, пропионовая кислота записывается как **CCC(=O)O**.\n",
    "- Атомы, находящиеся на концах разорванной при построении остовного леса связи, обозначаются одним и тем же номером. Например, циклогексан записывается как **C1CCCCC1**, а бензол — как **c1ccccc1**.\n",
    "- SMILES может быть записан однозначно."
   ]
  },
  {
   "cell_type": "markdown",
   "metadata": {},
   "source": [
    "<figure>\n",
    "    <img src=\"images/smiles.png\" width=\"700\" alt=\"smiles\">\n",
    "    <figcaption>SMILES ципрофлоксацина</figcaption>\n",
    "</figure>"
   ]
  },
  {
   "cell_type": "markdown",
   "metadata": {},
   "source": [
    "### Молекулярные дескрипторы"
   ]
  },
  {
   "cell_type": "markdown",
   "metadata": {},
   "source": [
    "Молекулярные дескрипторы предназначены для формального представления химических соединений в виде бинарных векторов фиксированной длины, что позволяет использовать такое представление для решения различных задач анализа и синтеза соединений методами машинного обучения."
   ]
  },
  {
   "cell_type": "markdown",
   "metadata": {},
   "source": [
    "Существует множество молекулярных дескрипторов. Чаще всего их классифицирует в соответствии с их размерностью. Одномерные дескрипторы передают некие физические и химические показатели, например молекулярный вес. Двумерные получают по 2D представлению молекулы, а трёхмерные --- по 3D структуре (то есть по трёхмерным координатам молекулы). Мы сфокусируемся на двумерных дескрипторах (фингерпринтах)."
   ]
  },
  {
   "cell_type": "markdown",
   "metadata": {},
   "source": [
    "Существуют различные типы фингерпринтов. Например, структурные (*Structural*), хэшированные (*Hashed*), путевые (*Path-based*), круговые (*Circular*). Среди доступных фингерпринтов нет одинаково хорошо подходящих для решения любой задачи."
   ]
  },
  {
   "cell_type": "markdown",
   "metadata": {},
   "source": [
    "### Структурные дескрипторы"
   ]
  },
  {
   "cell_type": "markdown",
   "metadata": {},
   "source": [
    "В структурных дескрипторах молекула кодируется в бинарный вектор, в котором каждый бит соответсвует заранее определённому структурному признаку (подструктуре или фрагменту). Если такой признак есть, то бит равен единице, а иначе --- нулю. В качестве примера такого дескриптора можно привести MACCS дескриптор."
   ]
  },
  {
   "cell_type": "markdown",
   "metadata": {},
   "source": [
    "<figure>\n",
    "    <img src=\"images/substructure_fp.png\" width=\"700\" alt=\"substructure_fp\">\n",
    "    <figcaption>Принцип построения MACCS</figcaption>\n",
    "</figure>"
   ]
  },
  {
   "cell_type": "markdown",
   "metadata": {},
   "source": [
    "MACCS (Molecular ACCess System) дескрипторы являются одними из самых часто используемых. Они иногда называются также MDL дескрипторы, по имени разработавших их компании. Существует два типа MACCS дескрипторов, один длиной 960, другой длиной 166. Лишь второй доступен публично. Он реализован такими свободными библиотеками как RDKit и OpenBabel. "
   ]
  },
  {
   "cell_type": "markdown",
   "metadata": {},
   "source": [
    "<figure>\n",
    "    <img src=\"images/maccs.png\" width=\"700\" alt=\"maccs\">\n",
    "    <figcaption>Пример MACCS фингерпринта для ципрофлоксацина</figcaption>\n",
    "</figure>"
   ]
  },
  {
   "cell_type": "markdown",
   "metadata": {},
   "source": [
    "### Круговые дескрипторы"
   ]
  },
  {
   "cell_type": "markdown",
   "metadata": {},
   "source": [
    "Круговые фингерпринты генерируются по о*круж*ению каждого атома в некотором радиусе. Примером круговых фингерпринтов служат фингерпринты расширенной связи (*ECFPs*). Разновидности ECFPs могут быть получены выбором различных значений диаметра. Например, для диаметров 2, 4, 6, соответственно ECFP2, ECFP4, ECFP6."
   ]
  },
  {
   "cell_type": "markdown",
   "metadata": {},
   "source": [
    "<figure>\n",
    "    <img src=\"images/morgan_64.png\" width=\"700\" alt=\"morgan_64\">\n",
    "    <figcaption>Пример Morgan фингерпринт радиуса 2 (также известный как ECFP4) для ципрофлоксацина</figcaption>\n",
    "</figure>"
   ]
  },
  {
   "cell_type": "markdown",
   "metadata": {
    "tags": []
   },
   "source": [
    "## Использованные библиотеки"
   ]
  },
  {
   "cell_type": "markdown",
   "metadata": {},
   "source": [
    "Для получения дескрипторов молекул по их SMILES была использована библиотека RDKit --- сборник программного обеспечения для хемоинформатики, написанный на C++ и Python и распространяемый под свободной лицензией BSD."
   ]
  },
  {
   "cell_type": "code",
   "execution_count": 1,
   "metadata": {
    "colab": {
     "base_uri": "https://localhost:8080/"
    },
    "id": "1zOU0fvUDl-M",
    "outputId": "7fe62559-d16a-42c4-e814-e07d85491072"
   },
   "outputs": [
    {
     "name": "stdout",
     "output_type": "stream",
     "text": [
      "Requirement already satisfied: pip in ./venv/lib/python3.10/site-packages (22.0.3)\n",
      "Requirement already satisfied: rdkit-pypi in ./venv/lib/python3.10/site-packages (2021.9.3)\n",
      "Requirement already satisfied: numpy>=1.19 in ./venv/lib/python3.10/site-packages (from rdkit-pypi) (1.22.0)\n",
      "Requirement already satisfied: pandas in ./venv/lib/python3.10/site-packages (1.3.5)\n",
      "Requirement already satisfied: python-dateutil>=2.7.3 in ./venv/lib/python3.10/site-packages (from pandas) (2.8.2)\n",
      "Requirement already satisfied: numpy>=1.21.0 in ./venv/lib/python3.10/site-packages (from pandas) (1.22.0)\n",
      "Requirement already satisfied: pytz>=2017.3 in ./venv/lib/python3.10/site-packages (from pandas) (2021.3)\n",
      "Requirement already satisfied: six>=1.5 in ./venv/lib/python3.10/site-packages (from python-dateutil>=2.7.3->pandas) (1.16.0)\n",
      "Requirement already satisfied: seaborn in ./venv/lib/python3.10/site-packages (0.11.2)\n",
      "Requirement already satisfied: scipy>=1.0 in ./venv/lib/python3.10/site-packages (from seaborn) (1.7.3)\n",
      "Requirement already satisfied: matplotlib>=2.2 in ./venv/lib/python3.10/site-packages (from seaborn) (3.5.1)\n",
      "Requirement already satisfied: numpy>=1.15 in ./venv/lib/python3.10/site-packages (from seaborn) (1.22.0)\n",
      "Requirement already satisfied: pandas>=0.23 in ./venv/lib/python3.10/site-packages (from seaborn) (1.3.5)\n",
      "Requirement already satisfied: pillow>=6.2.0 in ./venv/lib/python3.10/site-packages (from matplotlib>=2.2->seaborn) (9.0.0)\n",
      "Requirement already satisfied: python-dateutil>=2.7 in ./venv/lib/python3.10/site-packages (from matplotlib>=2.2->seaborn) (2.8.2)\n",
      "Requirement already satisfied: fonttools>=4.22.0 in ./venv/lib/python3.10/site-packages (from matplotlib>=2.2->seaborn) (4.28.5)\n",
      "Requirement already satisfied: kiwisolver>=1.0.1 in ./venv/lib/python3.10/site-packages (from matplotlib>=2.2->seaborn) (1.3.2)\n",
      "Requirement already satisfied: packaging>=20.0 in ./venv/lib/python3.10/site-packages (from matplotlib>=2.2->seaborn) (21.3)\n",
      "Requirement already satisfied: pyparsing>=2.2.1 in ./venv/lib/python3.10/site-packages (from matplotlib>=2.2->seaborn) (3.0.6)\n",
      "Requirement already satisfied: cycler>=0.10 in ./venv/lib/python3.10/site-packages (from matplotlib>=2.2->seaborn) (0.11.0)\n",
      "Requirement already satisfied: pytz>=2017.3 in ./venv/lib/python3.10/site-packages (from pandas>=0.23->seaborn) (2021.3)\n",
      "Requirement already satisfied: six>=1.5 in ./venv/lib/python3.10/site-packages (from python-dateutil>=2.7->matplotlib>=2.2->seaborn) (1.16.0)\n",
      "Requirement already satisfied: sklearn in ./venv/lib/python3.10/site-packages (0.0)\n",
      "Requirement already satisfied: scikit-learn in ./venv/lib/python3.10/site-packages (from sklearn) (1.0.2)\n",
      "Requirement already satisfied: scipy>=1.1.0 in ./venv/lib/python3.10/site-packages (from scikit-learn->sklearn) (1.7.3)\n",
      "Requirement already satisfied: threadpoolctl>=2.0.0 in ./venv/lib/python3.10/site-packages (from scikit-learn->sklearn) (3.0.0)\n",
      "Requirement already satisfied: joblib>=0.11 in ./venv/lib/python3.10/site-packages (from scikit-learn->sklearn) (1.1.0)\n",
      "Requirement already satisfied: numpy>=1.14.6 in ./venv/lib/python3.10/site-packages (from scikit-learn->sklearn) (1.22.0)\n"
     ]
    }
   ],
   "source": [
    "!pip install --upgrade pip\n",
    "\n",
    "!pip install rdkit-pypi\n",
    "\n",
    "!pip install pandas\n",
    "!pip install seaborn\n",
    "!pip install sklearn"
   ]
  },
  {
   "cell_type": "code",
   "execution_count": 2,
   "metadata": {},
   "outputs": [],
   "source": [
    "import pandas as pd\n",
    "import numpy as np\n",
    "import seaborn as sns"
   ]
  },
  {
   "cell_type": "code",
   "execution_count": 3,
   "metadata": {},
   "outputs": [],
   "source": [
    "sns.set(rc={'figure.figsize': (16, 5), 'axes.facecolor': 'white', 'figure.facecolor': 'white'}, style='whitegrid')"
   ]
  },
  {
   "cell_type": "code",
   "execution_count": 4,
   "metadata": {},
   "outputs": [],
   "source": [
    "from sklearn.linear_model import LinearRegression\n",
    "from sklearn.tree import DecisionTreeRegressor\n",
    "from sklearn.ensemble import RandomForestRegressor\n",
    "from sklearn.svm import SVR\n",
    "from sklearn.neighbors import KNeighborsRegressor"
   ]
  },
  {
   "cell_type": "code",
   "execution_count": 5,
   "metadata": {},
   "outputs": [],
   "source": [
    "from sklearn.model_selection import cross_validate\n",
    "from sklearn.metrics import make_scorer\n",
    "from sklearn.metrics import mean_absolute_error\n",
    "from sklearn.metrics import max_error\n",
    "from sklearn.metrics import r2_score"
   ]
  },
  {
   "cell_type": "markdown",
   "metadata": {},
   "source": [
    "Дополнительно к библиотечным метрикам *r-squared*, *mean absolute error*, *max error* была реализована собственная метрика:"
   ]
  },
  {
   "cell_type": "code",
   "execution_count": 6,
   "metadata": {},
   "outputs": [],
   "source": [
    "def score_func(y_true, y_pred):\n",
    "    return np.percentile(y_true - y_pred, 80)\n",
    "\n",
    "max_perc_score = make_scorer(score_func, greater_is_better=False)"
   ]
  },
  {
   "cell_type": "code",
   "execution_count": 7,
   "metadata": {},
   "outputs": [],
   "source": [
    "from sklearn.decomposition import PCA\n",
    "from sklearn.preprocessing import StandardScaler"
   ]
  },
  {
   "cell_type": "code",
   "execution_count": 8,
   "metadata": {
    "id": "nN0qzd7ZBn5c"
   },
   "outputs": [],
   "source": [
    "from rdkit.Chem import MolFromSmiles\n",
    "from rdkit.DataStructs.cDataStructs import ExplicitBitVect\n",
    "from rdkit.Chem.AllChem import GetMACCSKeysFingerprint, GetMorganFingerprintAsBitVect"
   ]
  },
  {
   "cell_type": "markdown",
   "metadata": {
    "id": "ZsjmQwiwT81Q",
    "tags": []
   },
   "source": [
    "## Подготовка данных"
   ]
  },
  {
   "cell_type": "markdown",
   "metadata": {
    "tags": []
   },
   "source": [
    "### Лиганды и их энергия связывания"
   ]
  },
  {
   "cell_type": "markdown",
   "metadata": {},
   "source": [
    "В качестве входных данных для моделей машинного обучения были использованы SMILES лигандов для белка gp120 вместе с их энергиями связывания в ккал/моль, предварительно рассчитанными с помощью Autodock Vina."
   ]
  },
  {
   "cell_type": "code",
   "execution_count": 9,
   "metadata": {
    "colab": {
     "base_uri": "https://localhost:8080/",
     "height": 424
    },
    "id": "XKgsxBD2Bq7M",
    "outputId": "c8e7ce12-8c0b-4bb8-c180-08823057747d"
   },
   "outputs": [
    {
     "data": {
      "text/html": [
       "<div>\n",
       "<style scoped>\n",
       "    .dataframe tbody tr th:only-of-type {\n",
       "        vertical-align: middle;\n",
       "    }\n",
       "\n",
       "    .dataframe tbody tr th {\n",
       "        vertical-align: top;\n",
       "    }\n",
       "\n",
       "    .dataframe thead th {\n",
       "        text-align: right;\n",
       "    }\n",
       "</style>\n",
       "<table border=\"1\" class=\"dataframe\">\n",
       "  <thead>\n",
       "    <tr style=\"text-align: right;\">\n",
       "      <th></th>\n",
       "      <th>energy</th>\n",
       "      <th>smiles</th>\n",
       "    </tr>\n",
       "  </thead>\n",
       "  <tbody>\n",
       "    <tr>\n",
       "      <th>0</th>\n",
       "      <td>-6.5</td>\n",
       "      <td>CCC[C@@H]1C(C[C@H](O)CC)=NNN1Cc1ccc(OCC)cc1</td>\n",
       "    </tr>\n",
       "    <tr>\n",
       "      <th>1</th>\n",
       "      <td>-5.6</td>\n",
       "      <td>CCOC(=O)C(=O)[C@H]1C(C2=C(OC)CCCC2)=NNN1c1ccc(...</td>\n",
       "    </tr>\n",
       "    <tr>\n",
       "      <th>2</th>\n",
       "      <td>-5.6</td>\n",
       "      <td>NCC1=NNN(c2ccc(C(=O)C=O)cc2)[C@@H]1CCc1ccccc1</td>\n",
       "    </tr>\n",
       "    <tr>\n",
       "      <th>3</th>\n",
       "      <td>-6.9</td>\n",
       "      <td>CC(C)(C)OC(=O)NCC1=NNN(c2cccc(CO)c2)[C@@H]1C(=O)O</td>\n",
       "    </tr>\n",
       "    <tr>\n",
       "      <th>4</th>\n",
       "      <td>-7.0</td>\n",
       "      <td>CC[C@H](C)C1=NNN(C[C@@H]2COc3ccccc3O2)[C@H]1C(...</td>\n",
       "    </tr>\n",
       "    <tr>\n",
       "      <th>...</th>\n",
       "      <td>...</td>\n",
       "      <td>...</td>\n",
       "    </tr>\n",
       "    <tr>\n",
       "      <th>14877</th>\n",
       "      <td>-7.8</td>\n",
       "      <td>CCc1ccc([C@H](CO)NCC2=NNN(C[C@H]3COc4ccccc4O3)...</td>\n",
       "    </tr>\n",
       "    <tr>\n",
       "      <th>14878</th>\n",
       "      <td>-6.9</td>\n",
       "      <td>COc1ccccc1[C@H]1C(CON)=NNN1C1=NS(=O)(=O)c2ccccc21</td>\n",
       "    </tr>\n",
       "    <tr>\n",
       "      <th>14879</th>\n",
       "      <td>-5.8</td>\n",
       "      <td>CCN1C2=CC=CCC2=CC=C1N1NN=C(C)[C@@H]1C1=C(C=O)CCC1</td>\n",
       "    </tr>\n",
       "    <tr>\n",
       "      <th>14880</th>\n",
       "      <td>-6.1</td>\n",
       "      <td>C#C[C@](C)(c1ccccc1)N1NN=C(CCCC)[C@@H]1[C@H]1O...</td>\n",
       "    </tr>\n",
       "    <tr>\n",
       "      <th>14881</th>\n",
       "      <td>-7.6</td>\n",
       "      <td>CCOC(=O)c1cncc([C@@H]2C(CN(C)C)=NNN2CC2=C[C@H]...</td>\n",
       "    </tr>\n",
       "  </tbody>\n",
       "</table>\n",
       "<p>14882 rows × 2 columns</p>\n",
       "</div>"
      ],
      "text/plain": [
       "       energy                                             smiles\n",
       "0        -6.5        CCC[C@@H]1C(C[C@H](O)CC)=NNN1Cc1ccc(OCC)cc1\n",
       "1        -5.6  CCOC(=O)C(=O)[C@H]1C(C2=C(OC)CCCC2)=NNN1c1ccc(...\n",
       "2        -5.6      NCC1=NNN(c2ccc(C(=O)C=O)cc2)[C@@H]1CCc1ccccc1\n",
       "3        -6.9  CC(C)(C)OC(=O)NCC1=NNN(c2cccc(CO)c2)[C@@H]1C(=O)O\n",
       "4        -7.0  CC[C@H](C)C1=NNN(C[C@@H]2COc3ccccc3O2)[C@H]1C(...\n",
       "...       ...                                                ...\n",
       "14877    -7.8  CCc1ccc([C@H](CO)NCC2=NNN(C[C@H]3COc4ccccc4O3)...\n",
       "14878    -6.9  COc1ccccc1[C@H]1C(CON)=NNN1C1=NS(=O)(=O)c2ccccc21\n",
       "14879    -5.8  CCN1C2=CC=CCC2=CC=C1N1NN=C(C)[C@@H]1C1=C(C=O)CCC1\n",
       "14880    -6.1  C#C[C@](C)(c1ccccc1)N1NN=C(CCCC)[C@@H]1[C@H]1O...\n",
       "14881    -7.6  CCOC(=O)c1cncc([C@@H]2C(CN(C)C)=NNN2CC2=C[C@H]...\n",
       "\n",
       "[14882 rows x 2 columns]"
      ]
     },
     "execution_count": 9,
     "metadata": {},
     "output_type": "execute_result"
    }
   ],
   "source": [
    "df_gp120 = pd.read_csv('data/gp120.csv', usecols=['energy', 'smiles'])\n",
    "df_gp120"
   ]
  },
  {
   "cell_type": "code",
   "execution_count": 10,
   "metadata": {
    "colab": {
     "base_uri": "https://localhost:8080/"
    },
    "id": "4ha75bI-cLrs",
    "outputId": "a19f4317-ea33-4685-f92b-e83f7b3cbd5c"
   },
   "outputs": [
    {
     "data": {
      "text/plain": [
       "energy    False\n",
       "smiles    False\n",
       "dtype: bool"
      ]
     },
     "execution_count": 10,
     "metadata": {},
     "output_type": "execute_result"
    }
   ],
   "source": [
    "pd.isnull(df_gp120).any()"
   ]
  },
  {
   "cell_type": "markdown",
   "metadata": {},
   "source": [
    "Распределение энергии связывания близко к нормальному со средним $-6.95$, среднеквадратическим отклонением $0.88$ и диапазоном от $-10.1$ до $-4.7$"
   ]
  },
  {
   "cell_type": "code",
   "execution_count": 11,
   "metadata": {
    "colab": {
     "base_uri": "https://localhost:8080/",
     "height": 638
    },
    "id": "OB0jBakPiH6E",
    "outputId": "642bcd95-5788-4589-a0de-26cf3db1acf4"
   },
   "outputs": [
    {
     "data": {
      "text/plain": [
       "<AxesSubplot:>"
      ]
     },
     "execution_count": 11,
     "metadata": {},
     "output_type": "execute_result"
    },
    {
     "data": {
      "image/png": "[encoded data removed]",
      "text/plain": [
       "<Figure size 1152x360 with 1 Axes>"
      ]
     },
     "metadata": {},
     "output_type": "display_data"
    }
   ],
   "source": [
    "df_gp120.energy.hist(bins=55)"
   ]
  },
  {
   "cell_type": "code",
   "execution_count": 12,
   "metadata": {},
   "outputs": [
    {
     "data": {
      "text/plain": [
       "count    14882.000000\n",
       "mean        -6.945935\n",
       "std          0.878445\n",
       "min        -10.100000\n",
       "25%         -7.600000\n",
       "50%         -6.900000\n",
       "75%         -6.200000\n",
       "max         -4.700000\n",
       "Name: energy, dtype: float64"
      ]
     },
     "execution_count": 12,
     "metadata": {},
     "output_type": "execute_result"
    }
   ],
   "source": [
    "df_gp120.energy.describe()"
   ]
  },
  {
   "cell_type": "markdown",
   "metadata": {
    "tags": []
   },
   "source": [
    "### Получение фингерпринтов"
   ]
  },
  {
   "cell_type": "markdown",
   "metadata": {},
   "source": [
    "Ниже представлен программный код генерации фингерпринтов MACCS по SMILES исходных молекул. Аналогично получаем фингерпринты Morgan радиуса 2."
   ]
  },
  {
   "cell_type": "markdown",
   "metadata": {},
   "source": [
    "Результат применения функций из rdkit представляет собой вектора из нулей и единиц для каждой молекулы. Из них получаем датафрейм, в котором каждому номеру символа таких векторов соответствует столбец, а каждой молекуле --- строка."
   ]
  },
  {
   "cell_type": "code",
   "execution_count": 13,
   "metadata": {
    "id": "wyzPTY1Ccu1s"
   },
   "outputs": [],
   "source": [
    "mols = [MolFromSmiles(s) for s in df_gp120.smiles]"
   ]
  },
  {
   "cell_type": "code",
   "execution_count": 14,
   "metadata": {},
   "outputs": [],
   "source": [
    "fp_maccs = [0] * len(mols)\n",
    "\n",
    "for i, m in enumerate(mols):\n",
    "    fp_maccs[i] = ExplicitBitVect.ToBitString(GetMACCSKeysFingerprint(m))"
   ]
  },
  {
   "cell_type": "code",
   "execution_count": 15,
   "metadata": {},
   "outputs": [
    {
     "data": {
      "text/html": [
       "<div>\n",
       "<style scoped>\n",
       "    .dataframe tbody tr th:only-of-type {\n",
       "        vertical-align: middle;\n",
       "    }\n",
       "\n",
       "    .dataframe tbody tr th {\n",
       "        vertical-align: top;\n",
       "    }\n",
       "\n",
       "    .dataframe thead th {\n",
       "        text-align: right;\n",
       "    }\n",
       "</style>\n",
       "<table border=\"1\" class=\"dataframe\">\n",
       "  <thead>\n",
       "    <tr style=\"text-align: right;\">\n",
       "      <th></th>\n",
       "      <th>0</th>\n",
       "      <th>1</th>\n",
       "      <th>2</th>\n",
       "      <th>3</th>\n",
       "      <th>4</th>\n",
       "      <th>5</th>\n",
       "      <th>6</th>\n",
       "      <th>7</th>\n",
       "      <th>8</th>\n",
       "      <th>9</th>\n",
       "      <th>...</th>\n",
       "      <th>157</th>\n",
       "      <th>158</th>\n",
       "      <th>159</th>\n",
       "      <th>160</th>\n",
       "      <th>161</th>\n",
       "      <th>162</th>\n",
       "      <th>163</th>\n",
       "      <th>164</th>\n",
       "      <th>165</th>\n",
       "      <th>166</th>\n",
       "    </tr>\n",
       "  </thead>\n",
       "  <tbody>\n",
       "    <tr>\n",
       "      <th>0</th>\n",
       "      <td>0</td>\n",
       "      <td>0</td>\n",
       "      <td>0</td>\n",
       "      <td>0</td>\n",
       "      <td>0</td>\n",
       "      <td>0</td>\n",
       "      <td>0</td>\n",
       "      <td>0</td>\n",
       "      <td>0</td>\n",
       "      <td>0</td>\n",
       "      <td>...</td>\n",
       "      <td>1</td>\n",
       "      <td>1</td>\n",
       "      <td>1</td>\n",
       "      <td>1</td>\n",
       "      <td>1</td>\n",
       "      <td>1</td>\n",
       "      <td>1</td>\n",
       "      <td>1</td>\n",
       "      <td>1</td>\n",
       "      <td>0</td>\n",
       "    </tr>\n",
       "    <tr>\n",
       "      <th>1</th>\n",
       "      <td>0</td>\n",
       "      <td>0</td>\n",
       "      <td>0</td>\n",
       "      <td>0</td>\n",
       "      <td>0</td>\n",
       "      <td>0</td>\n",
       "      <td>0</td>\n",
       "      <td>0</td>\n",
       "      <td>0</td>\n",
       "      <td>0</td>\n",
       "      <td>...</td>\n",
       "      <td>1</td>\n",
       "      <td>1</td>\n",
       "      <td>1</td>\n",
       "      <td>1</td>\n",
       "      <td>1</td>\n",
       "      <td>1</td>\n",
       "      <td>1</td>\n",
       "      <td>1</td>\n",
       "      <td>1</td>\n",
       "      <td>0</td>\n",
       "    </tr>\n",
       "    <tr>\n",
       "      <th>2</th>\n",
       "      <td>0</td>\n",
       "      <td>0</td>\n",
       "      <td>0</td>\n",
       "      <td>0</td>\n",
       "      <td>0</td>\n",
       "      <td>0</td>\n",
       "      <td>0</td>\n",
       "      <td>0</td>\n",
       "      <td>0</td>\n",
       "      <td>0</td>\n",
       "      <td>...</td>\n",
       "      <td>0</td>\n",
       "      <td>1</td>\n",
       "      <td>1</td>\n",
       "      <td>0</td>\n",
       "      <td>1</td>\n",
       "      <td>1</td>\n",
       "      <td>1</td>\n",
       "      <td>1</td>\n",
       "      <td>1</td>\n",
       "      <td>0</td>\n",
       "    </tr>\n",
       "    <tr>\n",
       "      <th>3</th>\n",
       "      <td>0</td>\n",
       "      <td>0</td>\n",
       "      <td>0</td>\n",
       "      <td>0</td>\n",
       "      <td>0</td>\n",
       "      <td>0</td>\n",
       "      <td>0</td>\n",
       "      <td>0</td>\n",
       "      <td>0</td>\n",
       "      <td>0</td>\n",
       "      <td>...</td>\n",
       "      <td>1</td>\n",
       "      <td>1</td>\n",
       "      <td>1</td>\n",
       "      <td>1</td>\n",
       "      <td>1</td>\n",
       "      <td>1</td>\n",
       "      <td>1</td>\n",
       "      <td>1</td>\n",
       "      <td>1</td>\n",
       "      <td>0</td>\n",
       "    </tr>\n",
       "    <tr>\n",
       "      <th>4</th>\n",
       "      <td>0</td>\n",
       "      <td>0</td>\n",
       "      <td>0</td>\n",
       "      <td>0</td>\n",
       "      <td>0</td>\n",
       "      <td>0</td>\n",
       "      <td>0</td>\n",
       "      <td>0</td>\n",
       "      <td>0</td>\n",
       "      <td>0</td>\n",
       "      <td>...</td>\n",
       "      <td>1</td>\n",
       "      <td>1</td>\n",
       "      <td>1</td>\n",
       "      <td>1</td>\n",
       "      <td>1</td>\n",
       "      <td>1</td>\n",
       "      <td>1</td>\n",
       "      <td>1</td>\n",
       "      <td>1</td>\n",
       "      <td>0</td>\n",
       "    </tr>\n",
       "    <tr>\n",
       "      <th>...</th>\n",
       "      <td>...</td>\n",
       "      <td>...</td>\n",
       "      <td>...</td>\n",
       "      <td>...</td>\n",
       "      <td>...</td>\n",
       "      <td>...</td>\n",
       "      <td>...</td>\n",
       "      <td>...</td>\n",
       "      <td>...</td>\n",
       "      <td>...</td>\n",
       "      <td>...</td>\n",
       "      <td>...</td>\n",
       "      <td>...</td>\n",
       "      <td>...</td>\n",
       "      <td>...</td>\n",
       "      <td>...</td>\n",
       "      <td>...</td>\n",
       "      <td>...</td>\n",
       "      <td>...</td>\n",
       "      <td>...</td>\n",
       "      <td>...</td>\n",
       "    </tr>\n",
       "    <tr>\n",
       "      <th>14877</th>\n",
       "      <td>0</td>\n",
       "      <td>0</td>\n",
       "      <td>0</td>\n",
       "      <td>0</td>\n",
       "      <td>0</td>\n",
       "      <td>0</td>\n",
       "      <td>0</td>\n",
       "      <td>0</td>\n",
       "      <td>0</td>\n",
       "      <td>0</td>\n",
       "      <td>...</td>\n",
       "      <td>1</td>\n",
       "      <td>1</td>\n",
       "      <td>1</td>\n",
       "      <td>1</td>\n",
       "      <td>1</td>\n",
       "      <td>1</td>\n",
       "      <td>1</td>\n",
       "      <td>1</td>\n",
       "      <td>1</td>\n",
       "      <td>0</td>\n",
       "    </tr>\n",
       "    <tr>\n",
       "      <th>14878</th>\n",
       "      <td>0</td>\n",
       "      <td>0</td>\n",
       "      <td>0</td>\n",
       "      <td>0</td>\n",
       "      <td>0</td>\n",
       "      <td>0</td>\n",
       "      <td>0</td>\n",
       "      <td>0</td>\n",
       "      <td>0</td>\n",
       "      <td>0</td>\n",
       "      <td>...</td>\n",
       "      <td>1</td>\n",
       "      <td>1</td>\n",
       "      <td>1</td>\n",
       "      <td>1</td>\n",
       "      <td>1</td>\n",
       "      <td>1</td>\n",
       "      <td>1</td>\n",
       "      <td>1</td>\n",
       "      <td>1</td>\n",
       "      <td>0</td>\n",
       "    </tr>\n",
       "    <tr>\n",
       "      <th>14879</th>\n",
       "      <td>0</td>\n",
       "      <td>0</td>\n",
       "      <td>0</td>\n",
       "      <td>0</td>\n",
       "      <td>0</td>\n",
       "      <td>0</td>\n",
       "      <td>0</td>\n",
       "      <td>0</td>\n",
       "      <td>0</td>\n",
       "      <td>0</td>\n",
       "      <td>...</td>\n",
       "      <td>0</td>\n",
       "      <td>1</td>\n",
       "      <td>0</td>\n",
       "      <td>1</td>\n",
       "      <td>1</td>\n",
       "      <td>0</td>\n",
       "      <td>1</td>\n",
       "      <td>1</td>\n",
       "      <td>1</td>\n",
       "      <td>0</td>\n",
       "    </tr>\n",
       "    <tr>\n",
       "      <th>14880</th>\n",
       "      <td>0</td>\n",
       "      <td>0</td>\n",
       "      <td>0</td>\n",
       "      <td>0</td>\n",
       "      <td>0</td>\n",
       "      <td>0</td>\n",
       "      <td>0</td>\n",
       "      <td>0</td>\n",
       "      <td>0</td>\n",
       "      <td>0</td>\n",
       "      <td>...</td>\n",
       "      <td>1</td>\n",
       "      <td>1</td>\n",
       "      <td>0</td>\n",
       "      <td>1</td>\n",
       "      <td>1</td>\n",
       "      <td>1</td>\n",
       "      <td>1</td>\n",
       "      <td>1</td>\n",
       "      <td>1</td>\n",
       "      <td>0</td>\n",
       "    </tr>\n",
       "    <tr>\n",
       "      <th>14881</th>\n",
       "      <td>0</td>\n",
       "      <td>0</td>\n",
       "      <td>0</td>\n",
       "      <td>0</td>\n",
       "      <td>0</td>\n",
       "      <td>0</td>\n",
       "      <td>0</td>\n",
       "      <td>0</td>\n",
       "      <td>0</td>\n",
       "      <td>0</td>\n",
       "      <td>...</td>\n",
       "      <td>1</td>\n",
       "      <td>1</td>\n",
       "      <td>1</td>\n",
       "      <td>1</td>\n",
       "      <td>1</td>\n",
       "      <td>1</td>\n",
       "      <td>1</td>\n",
       "      <td>1</td>\n",
       "      <td>1</td>\n",
       "      <td>0</td>\n",
       "    </tr>\n",
       "  </tbody>\n",
       "</table>\n",
       "<p>14882 rows × 167 columns</p>\n",
       "</div>"
      ],
      "text/plain": [
       "      0   1   2   3   4   5   6   7   8   9    ... 157 158 159 160 161 162  \\\n",
       "0       0   0   0   0   0   0   0   0   0   0  ...   1   1   1   1   1   1   \n",
       "1       0   0   0   0   0   0   0   0   0   0  ...   1   1   1   1   1   1   \n",
       "2       0   0   0   0   0   0   0   0   0   0  ...   0   1   1   0   1   1   \n",
       "3       0   0   0   0   0   0   0   0   0   0  ...   1   1   1   1   1   1   \n",
       "4       0   0   0   0   0   0   0   0   0   0  ...   1   1   1   1   1   1   \n",
       "...    ..  ..  ..  ..  ..  ..  ..  ..  ..  ..  ...  ..  ..  ..  ..  ..  ..   \n",
       "14877   0   0   0   0   0   0   0   0   0   0  ...   1   1   1   1   1   1   \n",
       "14878   0   0   0   0   0   0   0   0   0   0  ...   1   1   1   1   1   1   \n",
       "14879   0   0   0   0   0   0   0   0   0   0  ...   0   1   0   1   1   0   \n",
       "14880   0   0   0   0   0   0   0   0   0   0  ...   1   1   0   1   1   1   \n",
       "14881   0   0   0   0   0   0   0   0   0   0  ...   1   1   1   1   1   1   \n",
       "\n",
       "      163 164 165 166  \n",
       "0       1   1   1   0  \n",
       "1       1   1   1   0  \n",
       "2       1   1   1   0  \n",
       "3       1   1   1   0  \n",
       "4       1   1   1   0  \n",
       "...    ..  ..  ..  ..  \n",
       "14877   1   1   1   0  \n",
       "14878   1   1   1   0  \n",
       "14879   1   1   1   0  \n",
       "14880   1   1   1   0  \n",
       "14881   1   1   1   0  \n",
       "\n",
       "[14882 rows x 167 columns]"
      ]
     },
     "execution_count": 15,
     "metadata": {},
     "output_type": "execute_result"
    }
   ],
   "source": [
    "df_maccs_raw = pd.DataFrame(index=range(len(fp_maccs)), columns=range(len(fp_maccs[0])))\n",
    "\n",
    "for i in range(len(df_maccs_raw.index)):\n",
    "    df_maccs_raw.iloc[i] = list(map(int, fp_maccs[i]))\n",
    "    \n",
    "df_maccs_raw"
   ]
  },
  {
   "cell_type": "code",
   "execution_count": 16,
   "metadata": {},
   "outputs": [],
   "source": [
    "fp_morgan = [0] * len(mols)\n",
    "\n",
    "for i, m in enumerate(mols):\n",
    "      fp_morgan[i] = ExplicitBitVect.ToBitString(GetMorganFingerprintAsBitVect(m, 2))"
   ]
  },
  {
   "cell_type": "code",
   "execution_count": 17,
   "metadata": {},
   "outputs": [
    {
     "data": {
      "text/html": [
       "<div>\n",
       "<style scoped>\n",
       "    .dataframe tbody tr th:only-of-type {\n",
       "        vertical-align: middle;\n",
       "    }\n",
       "\n",
       "    .dataframe tbody tr th {\n",
       "        vertical-align: top;\n",
       "    }\n",
       "\n",
       "    .dataframe thead th {\n",
       "        text-align: right;\n",
       "    }\n",
       "</style>\n",
       "<table border=\"1\" class=\"dataframe\">\n",
       "  <thead>\n",
       "    <tr style=\"text-align: right;\">\n",
       "      <th></th>\n",
       "      <th>0</th>\n",
       "      <th>1</th>\n",
       "      <th>2</th>\n",
       "      <th>3</th>\n",
       "      <th>4</th>\n",
       "      <th>5</th>\n",
       "      <th>6</th>\n",
       "      <th>7</th>\n",
       "      <th>8</th>\n",
       "      <th>9</th>\n",
       "      <th>...</th>\n",
       "      <th>2038</th>\n",
       "      <th>2039</th>\n",
       "      <th>2040</th>\n",
       "      <th>2041</th>\n",
       "      <th>2042</th>\n",
       "      <th>2043</th>\n",
       "      <th>2044</th>\n",
       "      <th>2045</th>\n",
       "      <th>2046</th>\n",
       "      <th>2047</th>\n",
       "    </tr>\n",
       "  </thead>\n",
       "  <tbody>\n",
       "    <tr>\n",
       "      <th>0</th>\n",
       "      <td>0</td>\n",
       "      <td>1</td>\n",
       "      <td>0</td>\n",
       "      <td>0</td>\n",
       "      <td>0</td>\n",
       "      <td>0</td>\n",
       "      <td>0</td>\n",
       "      <td>0</td>\n",
       "      <td>0</td>\n",
       "      <td>0</td>\n",
       "      <td>...</td>\n",
       "      <td>1</td>\n",
       "      <td>0</td>\n",
       "      <td>0</td>\n",
       "      <td>0</td>\n",
       "      <td>0</td>\n",
       "      <td>0</td>\n",
       "      <td>0</td>\n",
       "      <td>0</td>\n",
       "      <td>0</td>\n",
       "      <td>0</td>\n",
       "    </tr>\n",
       "    <tr>\n",
       "      <th>1</th>\n",
       "      <td>0</td>\n",
       "      <td>0</td>\n",
       "      <td>0</td>\n",
       "      <td>0</td>\n",
       "      <td>0</td>\n",
       "      <td>0</td>\n",
       "      <td>0</td>\n",
       "      <td>0</td>\n",
       "      <td>0</td>\n",
       "      <td>0</td>\n",
       "      <td>...</td>\n",
       "      <td>0</td>\n",
       "      <td>0</td>\n",
       "      <td>0</td>\n",
       "      <td>0</td>\n",
       "      <td>0</td>\n",
       "      <td>0</td>\n",
       "      <td>0</td>\n",
       "      <td>0</td>\n",
       "      <td>0</td>\n",
       "      <td>0</td>\n",
       "    </tr>\n",
       "    <tr>\n",
       "      <th>2</th>\n",
       "      <td>0</td>\n",
       "      <td>0</td>\n",
       "      <td>0</td>\n",
       "      <td>0</td>\n",
       "      <td>0</td>\n",
       "      <td>0</td>\n",
       "      <td>0</td>\n",
       "      <td>0</td>\n",
       "      <td>0</td>\n",
       "      <td>0</td>\n",
       "      <td>...</td>\n",
       "      <td>0</td>\n",
       "      <td>0</td>\n",
       "      <td>0</td>\n",
       "      <td>0</td>\n",
       "      <td>0</td>\n",
       "      <td>0</td>\n",
       "      <td>0</td>\n",
       "      <td>0</td>\n",
       "      <td>0</td>\n",
       "      <td>0</td>\n",
       "    </tr>\n",
       "    <tr>\n",
       "      <th>3</th>\n",
       "      <td>0</td>\n",
       "      <td>0</td>\n",
       "      <td>0</td>\n",
       "      <td>0</td>\n",
       "      <td>0</td>\n",
       "      <td>0</td>\n",
       "      <td>0</td>\n",
       "      <td>0</td>\n",
       "      <td>0</td>\n",
       "      <td>0</td>\n",
       "      <td>...</td>\n",
       "      <td>0</td>\n",
       "      <td>0</td>\n",
       "      <td>0</td>\n",
       "      <td>0</td>\n",
       "      <td>0</td>\n",
       "      <td>0</td>\n",
       "      <td>0</td>\n",
       "      <td>0</td>\n",
       "      <td>0</td>\n",
       "      <td>0</td>\n",
       "    </tr>\n",
       "    <tr>\n",
       "      <th>4</th>\n",
       "      <td>0</td>\n",
       "      <td>1</td>\n",
       "      <td>0</td>\n",
       "      <td>0</td>\n",
       "      <td>0</td>\n",
       "      <td>0</td>\n",
       "      <td>0</td>\n",
       "      <td>0</td>\n",
       "      <td>0</td>\n",
       "      <td>0</td>\n",
       "      <td>...</td>\n",
       "      <td>0</td>\n",
       "      <td>0</td>\n",
       "      <td>0</td>\n",
       "      <td>0</td>\n",
       "      <td>0</td>\n",
       "      <td>0</td>\n",
       "      <td>0</td>\n",
       "      <td>0</td>\n",
       "      <td>0</td>\n",
       "      <td>0</td>\n",
       "    </tr>\n",
       "    <tr>\n",
       "      <th>...</th>\n",
       "      <td>...</td>\n",
       "      <td>...</td>\n",
       "      <td>...</td>\n",
       "      <td>...</td>\n",
       "      <td>...</td>\n",
       "      <td>...</td>\n",
       "      <td>...</td>\n",
       "      <td>...</td>\n",
       "      <td>...</td>\n",
       "      <td>...</td>\n",
       "      <td>...</td>\n",
       "      <td>...</td>\n",
       "      <td>...</td>\n",
       "      <td>...</td>\n",
       "      <td>...</td>\n",
       "      <td>...</td>\n",
       "      <td>...</td>\n",
       "      <td>...</td>\n",
       "      <td>...</td>\n",
       "      <td>...</td>\n",
       "      <td>...</td>\n",
       "    </tr>\n",
       "    <tr>\n",
       "      <th>14877</th>\n",
       "      <td>0</td>\n",
       "      <td>1</td>\n",
       "      <td>0</td>\n",
       "      <td>0</td>\n",
       "      <td>0</td>\n",
       "      <td>0</td>\n",
       "      <td>0</td>\n",
       "      <td>0</td>\n",
       "      <td>0</td>\n",
       "      <td>0</td>\n",
       "      <td>...</td>\n",
       "      <td>0</td>\n",
       "      <td>0</td>\n",
       "      <td>0</td>\n",
       "      <td>0</td>\n",
       "      <td>0</td>\n",
       "      <td>0</td>\n",
       "      <td>0</td>\n",
       "      <td>0</td>\n",
       "      <td>0</td>\n",
       "      <td>0</td>\n",
       "    </tr>\n",
       "    <tr>\n",
       "      <th>14878</th>\n",
       "      <td>0</td>\n",
       "      <td>0</td>\n",
       "      <td>0</td>\n",
       "      <td>0</td>\n",
       "      <td>0</td>\n",
       "      <td>0</td>\n",
       "      <td>0</td>\n",
       "      <td>0</td>\n",
       "      <td>0</td>\n",
       "      <td>0</td>\n",
       "      <td>...</td>\n",
       "      <td>0</td>\n",
       "      <td>0</td>\n",
       "      <td>0</td>\n",
       "      <td>0</td>\n",
       "      <td>0</td>\n",
       "      <td>0</td>\n",
       "      <td>0</td>\n",
       "      <td>0</td>\n",
       "      <td>0</td>\n",
       "      <td>0</td>\n",
       "    </tr>\n",
       "    <tr>\n",
       "      <th>14879</th>\n",
       "      <td>0</td>\n",
       "      <td>0</td>\n",
       "      <td>0</td>\n",
       "      <td>0</td>\n",
       "      <td>0</td>\n",
       "      <td>0</td>\n",
       "      <td>0</td>\n",
       "      <td>0</td>\n",
       "      <td>0</td>\n",
       "      <td>0</td>\n",
       "      <td>...</td>\n",
       "      <td>0</td>\n",
       "      <td>0</td>\n",
       "      <td>0</td>\n",
       "      <td>0</td>\n",
       "      <td>0</td>\n",
       "      <td>0</td>\n",
       "      <td>0</td>\n",
       "      <td>0</td>\n",
       "      <td>0</td>\n",
       "      <td>0</td>\n",
       "    </tr>\n",
       "    <tr>\n",
       "      <th>14880</th>\n",
       "      <td>0</td>\n",
       "      <td>0</td>\n",
       "      <td>0</td>\n",
       "      <td>0</td>\n",
       "      <td>0</td>\n",
       "      <td>0</td>\n",
       "      <td>0</td>\n",
       "      <td>0</td>\n",
       "      <td>0</td>\n",
       "      <td>0</td>\n",
       "      <td>...</td>\n",
       "      <td>0</td>\n",
       "      <td>0</td>\n",
       "      <td>0</td>\n",
       "      <td>0</td>\n",
       "      <td>0</td>\n",
       "      <td>0</td>\n",
       "      <td>0</td>\n",
       "      <td>0</td>\n",
       "      <td>0</td>\n",
       "      <td>0</td>\n",
       "    </tr>\n",
       "    <tr>\n",
       "      <th>14881</th>\n",
       "      <td>0</td>\n",
       "      <td>0</td>\n",
       "      <td>0</td>\n",
       "      <td>0</td>\n",
       "      <td>0</td>\n",
       "      <td>0</td>\n",
       "      <td>0</td>\n",
       "      <td>0</td>\n",
       "      <td>0</td>\n",
       "      <td>0</td>\n",
       "      <td>...</td>\n",
       "      <td>0</td>\n",
       "      <td>0</td>\n",
       "      <td>0</td>\n",
       "      <td>0</td>\n",
       "      <td>0</td>\n",
       "      <td>0</td>\n",
       "      <td>0</td>\n",
       "      <td>0</td>\n",
       "      <td>0</td>\n",
       "      <td>0</td>\n",
       "    </tr>\n",
       "  </tbody>\n",
       "</table>\n",
       "<p>14882 rows × 2048 columns</p>\n",
       "</div>"
      ],
      "text/plain": [
       "      0    1    2    3    4    5    6    7    8    9     ... 2038 2039 2040  \\\n",
       "0        0    1    0    0    0    0    0    0    0    0  ...    1    0    0   \n",
       "1        0    0    0    0    0    0    0    0    0    0  ...    0    0    0   \n",
       "2        0    0    0    0    0    0    0    0    0    0  ...    0    0    0   \n",
       "3        0    0    0    0    0    0    0    0    0    0  ...    0    0    0   \n",
       "4        0    1    0    0    0    0    0    0    0    0  ...    0    0    0   \n",
       "...    ...  ...  ...  ...  ...  ...  ...  ...  ...  ...  ...  ...  ...  ...   \n",
       "14877    0    1    0    0    0    0    0    0    0    0  ...    0    0    0   \n",
       "14878    0    0    0    0    0    0    0    0    0    0  ...    0    0    0   \n",
       "14879    0    0    0    0    0    0    0    0    0    0  ...    0    0    0   \n",
       "14880    0    0    0    0    0    0    0    0    0    0  ...    0    0    0   \n",
       "14881    0    0    0    0    0    0    0    0    0    0  ...    0    0    0   \n",
       "\n",
       "      2041 2042 2043 2044 2045 2046 2047  \n",
       "0        0    0    0    0    0    0    0  \n",
       "1        0    0    0    0    0    0    0  \n",
       "2        0    0    0    0    0    0    0  \n",
       "3        0    0    0    0    0    0    0  \n",
       "4        0    0    0    0    0    0    0  \n",
       "...    ...  ...  ...  ...  ...  ...  ...  \n",
       "14877    0    0    0    0    0    0    0  \n",
       "14878    0    0    0    0    0    0    0  \n",
       "14879    0    0    0    0    0    0    0  \n",
       "14880    0    0    0    0    0    0    0  \n",
       "14881    0    0    0    0    0    0    0  \n",
       "\n",
       "[14882 rows x 2048 columns]"
      ]
     },
     "execution_count": 17,
     "metadata": {},
     "output_type": "execute_result"
    }
   ],
   "source": [
    "df_morgan_raw = pd.DataFrame(index=range(len(fp_morgan)), columns=range(len(fp_morgan[0])))\n",
    "\n",
    "for i in range(len(df_morgan_raw.index)):\n",
    "    df_morgan_raw.iloc[i] = list(map(int, fp_morgan[i]))\n",
    "    \n",
    "df_morgan_raw"
   ]
  },
  {
   "cell_type": "markdown",
   "metadata": {
    "tags": []
   },
   "source": [
    "### Преобразование фингерпринтов"
   ]
  },
  {
   "cell_type": "markdown",
   "metadata": {},
   "source": [
    "Между колонками-признаками датафреймов с дескрипторами имеется заметная множественная корреляция. Чтобы улучшить ситуацию, воспользуемся методом главных компонет: спроецируем данные на размерности с наибольшей дисперсией."
   ]
  },
  {
   "cell_type": "markdown",
   "metadata": {},
   "source": [
    "Такое преобразование не помешает сравнению эффективности дескрипторов, если процент объяснённой дисперсии у обоих фингерпринтов взять одинаковый, например 90 процентов."
   ]
  },
  {
   "cell_type": "markdown",
   "metadata": {
    "tags": []
   },
   "source": [
    "#### Для MACCS"
   ]
  },
  {
   "cell_type": "code",
   "execution_count": 18,
   "metadata": {},
   "outputs": [],
   "source": [
    "df_maccs_transformed = StandardScaler().fit_transform(df_maccs_raw)\n",
    "pca = PCA(n_components=0.9)\n",
    "df_maccs = pd.DataFrame(pca.fit_transform(df_maccs_transformed))"
   ]
  },
  {
   "cell_type": "code",
   "execution_count": 19,
   "metadata": {},
   "outputs": [
    {
     "data": {
      "text/html": [
       "<div>\n",
       "<style scoped>\n",
       "    .dataframe tbody tr th:only-of-type {\n",
       "        vertical-align: middle;\n",
       "    }\n",
       "\n",
       "    .dataframe tbody tr th {\n",
       "        vertical-align: top;\n",
       "    }\n",
       "\n",
       "    .dataframe thead th {\n",
       "        text-align: right;\n",
       "    }\n",
       "</style>\n",
       "<table border=\"1\" class=\"dataframe\">\n",
       "  <thead>\n",
       "    <tr style=\"text-align: right;\">\n",
       "      <th></th>\n",
       "      <th>0</th>\n",
       "      <th>1</th>\n",
       "      <th>2</th>\n",
       "      <th>3</th>\n",
       "      <th>4</th>\n",
       "      <th>5</th>\n",
       "      <th>6</th>\n",
       "      <th>7</th>\n",
       "      <th>8</th>\n",
       "      <th>9</th>\n",
       "      <th>...</th>\n",
       "      <th>42</th>\n",
       "      <th>43</th>\n",
       "      <th>44</th>\n",
       "      <th>45</th>\n",
       "      <th>46</th>\n",
       "      <th>47</th>\n",
       "      <th>48</th>\n",
       "      <th>49</th>\n",
       "      <th>50</th>\n",
       "      <th>51</th>\n",
       "    </tr>\n",
       "  </thead>\n",
       "  <tbody>\n",
       "    <tr>\n",
       "      <th>0</th>\n",
       "      <td>-1.991589</td>\n",
       "      <td>-1.553125</td>\n",
       "      <td>-3.254613</td>\n",
       "      <td>-2.465029</td>\n",
       "      <td>-0.262539</td>\n",
       "      <td>-1.426023</td>\n",
       "      <td>0.014521</td>\n",
       "      <td>0.838775</td>\n",
       "      <td>1.035257</td>\n",
       "      <td>-1.249203</td>\n",
       "      <td>...</td>\n",
       "      <td>0.150604</td>\n",
       "      <td>0.475667</td>\n",
       "      <td>0.283370</td>\n",
       "      <td>-0.029695</td>\n",
       "      <td>-1.113272</td>\n",
       "      <td>1.025332</td>\n",
       "      <td>-0.390300</td>\n",
       "      <td>0.286295</td>\n",
       "      <td>0.072062</td>\n",
       "      <td>-0.515517</td>\n",
       "    </tr>\n",
       "    <tr>\n",
       "      <th>1</th>\n",
       "      <td>0.015260</td>\n",
       "      <td>4.978339</td>\n",
       "      <td>-3.486020</td>\n",
       "      <td>7.241766</td>\n",
       "      <td>0.781737</td>\n",
       "      <td>0.008548</td>\n",
       "      <td>1.399448</td>\n",
       "      <td>4.007923</td>\n",
       "      <td>-0.035242</td>\n",
       "      <td>-1.209198</td>\n",
       "      <td>...</td>\n",
       "      <td>-0.170280</td>\n",
       "      <td>-1.156188</td>\n",
       "      <td>-1.216891</td>\n",
       "      <td>0.677772</td>\n",
       "      <td>0.439634</td>\n",
       "      <td>0.063328</td>\n",
       "      <td>0.243848</td>\n",
       "      <td>-0.496617</td>\n",
       "      <td>0.322197</td>\n",
       "      <td>-0.997802</td>\n",
       "    </tr>\n",
       "    <tr>\n",
       "      <th>2</th>\n",
       "      <td>-1.074476</td>\n",
       "      <td>0.928877</td>\n",
       "      <td>0.814186</td>\n",
       "      <td>-1.188665</td>\n",
       "      <td>2.073327</td>\n",
       "      <td>0.832787</td>\n",
       "      <td>-2.119414</td>\n",
       "      <td>-2.005714</td>\n",
       "      <td>-1.146538</td>\n",
       "      <td>0.488795</td>\n",
       "      <td>...</td>\n",
       "      <td>1.388981</td>\n",
       "      <td>0.224922</td>\n",
       "      <td>0.103128</td>\n",
       "      <td>0.259616</td>\n",
       "      <td>0.297214</td>\n",
       "      <td>0.688677</td>\n",
       "      <td>-1.674385</td>\n",
       "      <td>0.682885</td>\n",
       "      <td>-0.157840</td>\n",
       "      <td>1.260625</td>\n",
       "    </tr>\n",
       "    <tr>\n",
       "      <th>3</th>\n",
       "      <td>-0.105549</td>\n",
       "      <td>1.367211</td>\n",
       "      <td>-1.004831</td>\n",
       "      <td>-2.566319</td>\n",
       "      <td>-2.161147</td>\n",
       "      <td>2.516190</td>\n",
       "      <td>0.190690</td>\n",
       "      <td>4.279604</td>\n",
       "      <td>0.236742</td>\n",
       "      <td>2.100532</td>\n",
       "      <td>...</td>\n",
       "      <td>-0.730563</td>\n",
       "      <td>0.677579</td>\n",
       "      <td>-1.337108</td>\n",
       "      <td>0.952753</td>\n",
       "      <td>0.718385</td>\n",
       "      <td>0.609695</td>\n",
       "      <td>0.305499</td>\n",
       "      <td>-0.848397</td>\n",
       "      <td>-1.456133</td>\n",
       "      <td>-0.732971</td>\n",
       "    </tr>\n",
       "    <tr>\n",
       "      <th>4</th>\n",
       "      <td>-1.110399</td>\n",
       "      <td>-0.396596</td>\n",
       "      <td>-3.888991</td>\n",
       "      <td>0.367677</td>\n",
       "      <td>-3.859095</td>\n",
       "      <td>0.403492</td>\n",
       "      <td>-0.622758</td>\n",
       "      <td>-0.162236</td>\n",
       "      <td>0.930140</td>\n",
       "      <td>-1.798000</td>\n",
       "      <td>...</td>\n",
       "      <td>-0.187809</td>\n",
       "      <td>0.247920</td>\n",
       "      <td>1.520272</td>\n",
       "      <td>1.051739</td>\n",
       "      <td>-0.464703</td>\n",
       "      <td>-0.290143</td>\n",
       "      <td>-0.261708</td>\n",
       "      <td>-0.876344</td>\n",
       "      <td>-0.012201</td>\n",
       "      <td>-0.728245</td>\n",
       "    </tr>\n",
       "    <tr>\n",
       "      <th>...</th>\n",
       "      <td>...</td>\n",
       "      <td>...</td>\n",
       "      <td>...</td>\n",
       "      <td>...</td>\n",
       "      <td>...</td>\n",
       "      <td>...</td>\n",
       "      <td>...</td>\n",
       "      <td>...</td>\n",
       "      <td>...</td>\n",
       "      <td>...</td>\n",
       "      <td>...</td>\n",
       "      <td>...</td>\n",
       "      <td>...</td>\n",
       "      <td>...</td>\n",
       "      <td>...</td>\n",
       "      <td>...</td>\n",
       "      <td>...</td>\n",
       "      <td>...</td>\n",
       "      <td>...</td>\n",
       "      <td>...</td>\n",
       "      <td>...</td>\n",
       "    </tr>\n",
       "    <tr>\n",
       "      <th>14877</th>\n",
       "      <td>-1.647197</td>\n",
       "      <td>-0.881278</td>\n",
       "      <td>-4.186158</td>\n",
       "      <td>-1.010457</td>\n",
       "      <td>-1.356072</td>\n",
       "      <td>0.229877</td>\n",
       "      <td>0.737414</td>\n",
       "      <td>-2.551883</td>\n",
       "      <td>-0.327395</td>\n",
       "      <td>1.009086</td>\n",
       "      <td>...</td>\n",
       "      <td>0.522802</td>\n",
       "      <td>1.295011</td>\n",
       "      <td>0.397883</td>\n",
       "      <td>-0.043196</td>\n",
       "      <td>-0.126495</td>\n",
       "      <td>0.528393</td>\n",
       "      <td>-0.102793</td>\n",
       "      <td>1.386930</td>\n",
       "      <td>0.097681</td>\n",
       "      <td>0.108291</td>\n",
       "    </tr>\n",
       "    <tr>\n",
       "      <th>14878</th>\n",
       "      <td>14.178419</td>\n",
       "      <td>0.580822</td>\n",
       "      <td>-2.939053</td>\n",
       "      <td>0.428119</td>\n",
       "      <td>0.276216</td>\n",
       "      <td>1.928808</td>\n",
       "      <td>0.718175</td>\n",
       "      <td>-0.252725</td>\n",
       "      <td>-0.252138</td>\n",
       "      <td>-1.883757</td>\n",
       "      <td>...</td>\n",
       "      <td>-1.301643</td>\n",
       "      <td>0.425674</td>\n",
       "      <td>-0.198846</td>\n",
       "      <td>-0.741171</td>\n",
       "      <td>0.455948</td>\n",
       "      <td>0.180017</td>\n",
       "      <td>0.692851</td>\n",
       "      <td>-0.780275</td>\n",
       "      <td>0.609125</td>\n",
       "      <td>-0.515621</td>\n",
       "    </tr>\n",
       "    <tr>\n",
       "      <th>14879</th>\n",
       "      <td>-1.425306</td>\n",
       "      <td>-6.830763</td>\n",
       "      <td>3.682882</td>\n",
       "      <td>5.855518</td>\n",
       "      <td>1.047756</td>\n",
       "      <td>1.097181</td>\n",
       "      <td>0.213207</td>\n",
       "      <td>0.501635</td>\n",
       "      <td>-0.588009</td>\n",
       "      <td>-0.777537</td>\n",
       "      <td>...</td>\n",
       "      <td>1.361614</td>\n",
       "      <td>0.366501</td>\n",
       "      <td>0.149308</td>\n",
       "      <td>-0.268084</td>\n",
       "      <td>1.431480</td>\n",
       "      <td>-0.825996</td>\n",
       "      <td>-0.343771</td>\n",
       "      <td>-0.648806</td>\n",
       "      <td>-0.128254</td>\n",
       "      <td>0.207106</td>\n",
       "    </tr>\n",
       "    <tr>\n",
       "      <th>14880</th>\n",
       "      <td>-1.182588</td>\n",
       "      <td>-0.633223</td>\n",
       "      <td>1.041162</td>\n",
       "      <td>-0.917881</td>\n",
       "      <td>-2.041819</td>\n",
       "      <td>-4.879737</td>\n",
       "      <td>-1.575052</td>\n",
       "      <td>2.070870</td>\n",
       "      <td>-0.071427</td>\n",
       "      <td>-0.135339</td>\n",
       "      <td>...</td>\n",
       "      <td>0.614268</td>\n",
       "      <td>-0.308275</td>\n",
       "      <td>-0.083047</td>\n",
       "      <td>1.794609</td>\n",
       "      <td>0.076983</td>\n",
       "      <td>1.004270</td>\n",
       "      <td>0.643387</td>\n",
       "      <td>-0.605811</td>\n",
       "      <td>-1.105646</td>\n",
       "      <td>0.098792</td>\n",
       "    </tr>\n",
       "    <tr>\n",
       "      <th>14881</th>\n",
       "      <td>-1.825027</td>\n",
       "      <td>-4.045546</td>\n",
       "      <td>-0.528717</td>\n",
       "      <td>0.795225</td>\n",
       "      <td>-0.024258</td>\n",
       "      <td>0.844908</td>\n",
       "      <td>0.864075</td>\n",
       "      <td>-0.004342</td>\n",
       "      <td>1.019244</td>\n",
       "      <td>-0.744429</td>\n",
       "      <td>...</td>\n",
       "      <td>-1.079001</td>\n",
       "      <td>-1.394481</td>\n",
       "      <td>1.001741</td>\n",
       "      <td>1.751516</td>\n",
       "      <td>-1.260361</td>\n",
       "      <td>-0.334069</td>\n",
       "      <td>0.089385</td>\n",
       "      <td>2.247716</td>\n",
       "      <td>0.292416</td>\n",
       "      <td>-0.314091</td>\n",
       "    </tr>\n",
       "  </tbody>\n",
       "</table>\n",
       "<p>14882 rows × 52 columns</p>\n",
       "</div>"
      ],
      "text/plain": [
       "              0         1         2         3         4         5         6   \\\n",
       "0      -1.991589 -1.553125 -3.254613 -2.465029 -0.262539 -1.426023  0.014521   \n",
       "1       0.015260  4.978339 -3.486020  7.241766  0.781737  0.008548  1.399448   \n",
       "2      -1.074476  0.928877  0.814186 -1.188665  2.073327  0.832787 -2.119414   \n",
       "3      -0.105549  1.367211 -1.004831 -2.566319 -2.161147  2.516190  0.190690   \n",
       "4      -1.110399 -0.396596 -3.888991  0.367677 -3.859095  0.403492 -0.622758   \n",
       "...          ...       ...       ...       ...       ...       ...       ...   \n",
       "14877  -1.647197 -0.881278 -4.186158 -1.010457 -1.356072  0.229877  0.737414   \n",
       "14878  14.178419  0.580822 -2.939053  0.428119  0.276216  1.928808  0.718175   \n",
       "14879  -1.425306 -6.830763  3.682882  5.855518  1.047756  1.097181  0.213207   \n",
       "14880  -1.182588 -0.633223  1.041162 -0.917881 -2.041819 -4.879737 -1.575052   \n",
       "14881  -1.825027 -4.045546 -0.528717  0.795225 -0.024258  0.844908  0.864075   \n",
       "\n",
       "             7         8         9   ...        42        43        44  \\\n",
       "0      0.838775  1.035257 -1.249203  ...  0.150604  0.475667  0.283370   \n",
       "1      4.007923 -0.035242 -1.209198  ... -0.170280 -1.156188 -1.216891   \n",
       "2     -2.005714 -1.146538  0.488795  ...  1.388981  0.224922  0.103128   \n",
       "3      4.279604  0.236742  2.100532  ... -0.730563  0.677579 -1.337108   \n",
       "4     -0.162236  0.930140 -1.798000  ... -0.187809  0.247920  1.520272   \n",
       "...         ...       ...       ...  ...       ...       ...       ...   \n",
       "14877 -2.551883 -0.327395  1.009086  ...  0.522802  1.295011  0.397883   \n",
       "14878 -0.252725 -0.252138 -1.883757  ... -1.301643  0.425674 -0.198846   \n",
       "14879  0.501635 -0.588009 -0.777537  ...  1.361614  0.366501  0.149308   \n",
       "14880  2.070870 -0.071427 -0.135339  ...  0.614268 -0.308275 -0.083047   \n",
       "14881 -0.004342  1.019244 -0.744429  ... -1.079001 -1.394481  1.001741   \n",
       "\n",
       "             45        46        47        48        49        50        51  \n",
       "0     -0.029695 -1.113272  1.025332 -0.390300  0.286295  0.072062 -0.515517  \n",
       "1      0.677772  0.439634  0.063328  0.243848 -0.496617  0.322197 -0.997802  \n",
       "2      0.259616  0.297214  0.688677 -1.674385  0.682885 -0.157840  1.260625  \n",
       "3      0.952753  0.718385  0.609695  0.305499 -0.848397 -1.456133 -0.732971  \n",
       "4      1.051739 -0.464703 -0.290143 -0.261708 -0.876344 -0.012201 -0.728245  \n",
       "...         ...       ...       ...       ...       ...       ...       ...  \n",
       "14877 -0.043196 -0.126495  0.528393 -0.102793  1.386930  0.097681  0.108291  \n",
       "14878 -0.741171  0.455948  0.180017  0.692851 -0.780275  0.609125 -0.515621  \n",
       "14879 -0.268084  1.431480 -0.825996 -0.343771 -0.648806 -0.128254  0.207106  \n",
       "14880  1.794609  0.076983  1.004270  0.643387 -0.605811 -1.105646  0.098792  \n",
       "14881  1.751516 -1.260361 -0.334069  0.089385  2.247716  0.292416 -0.314091  \n",
       "\n",
       "[14882 rows x 52 columns]"
      ]
     },
     "execution_count": 19,
     "metadata": {},
     "output_type": "execute_result"
    }
   ],
   "source": [
    "df_maccs"
   ]
  },
  {
   "cell_type": "code",
   "execution_count": 20,
   "metadata": {},
   "outputs": [
    {
     "data": {
      "text/plain": [
       "0.9017343395915365"
      ]
     },
     "execution_count": 20,
     "metadata": {},
     "output_type": "execute_result"
    }
   ],
   "source": [
    "sum(pca.explained_variance_ratio_)"
   ]
  },
  {
   "cell_type": "markdown",
   "metadata": {
    "tags": []
   },
   "source": [
    "#### Для Morgan"
   ]
  },
  {
   "cell_type": "code",
   "execution_count": 21,
   "metadata": {},
   "outputs": [],
   "source": [
    "df_morgan_transformed = StandardScaler().fit_transform(df_morgan_raw)\n",
    "pca = PCA(n_components=0.9)\n",
    "df_morgan = pd.DataFrame(pca.fit_transform(df_morgan_transformed))"
   ]
  },
  {
   "cell_type": "code",
   "execution_count": 22,
   "metadata": {},
   "outputs": [
    {
     "data": {
      "text/html": [
       "<div>\n",
       "<style scoped>\n",
       "    .dataframe tbody tr th:only-of-type {\n",
       "        vertical-align: middle;\n",
       "    }\n",
       "\n",
       "    .dataframe tbody tr th {\n",
       "        vertical-align: top;\n",
       "    }\n",
       "\n",
       "    .dataframe thead th {\n",
       "        text-align: right;\n",
       "    }\n",
       "</style>\n",
       "<table border=\"1\" class=\"dataframe\">\n",
       "  <thead>\n",
       "    <tr style=\"text-align: right;\">\n",
       "      <th></th>\n",
       "      <th>0</th>\n",
       "      <th>1</th>\n",
       "      <th>2</th>\n",
       "      <th>3</th>\n",
       "      <th>4</th>\n",
       "      <th>5</th>\n",
       "      <th>6</th>\n",
       "      <th>7</th>\n",
       "      <th>8</th>\n",
       "      <th>9</th>\n",
       "      <th>...</th>\n",
       "      <th>749</th>\n",
       "      <th>750</th>\n",
       "      <th>751</th>\n",
       "      <th>752</th>\n",
       "      <th>753</th>\n",
       "      <th>754</th>\n",
       "      <th>755</th>\n",
       "      <th>756</th>\n",
       "      <th>757</th>\n",
       "      <th>758</th>\n",
       "    </tr>\n",
       "  </thead>\n",
       "  <tbody>\n",
       "    <tr>\n",
       "      <th>0</th>\n",
       "      <td>-0.907998</td>\n",
       "      <td>-0.326361</td>\n",
       "      <td>2.509258</td>\n",
       "      <td>0.603699</td>\n",
       "      <td>-0.609833</td>\n",
       "      <td>0.270167</td>\n",
       "      <td>-1.268939</td>\n",
       "      <td>1.739931</td>\n",
       "      <td>0.490681</td>\n",
       "      <td>1.918173</td>\n",
       "      <td>...</td>\n",
       "      <td>-0.122370</td>\n",
       "      <td>-0.318655</td>\n",
       "      <td>-0.051879</td>\n",
       "      <td>0.537901</td>\n",
       "      <td>0.792013</td>\n",
       "      <td>-0.307227</td>\n",
       "      <td>0.007397</td>\n",
       "      <td>-0.055104</td>\n",
       "      <td>0.428731</td>\n",
       "      <td>0.077987</td>\n",
       "    </tr>\n",
       "    <tr>\n",
       "      <th>1</th>\n",
       "      <td>-0.232965</td>\n",
       "      <td>2.202027</td>\n",
       "      <td>-2.198502</td>\n",
       "      <td>1.414625</td>\n",
       "      <td>0.421343</td>\n",
       "      <td>5.826403</td>\n",
       "      <td>3.425454</td>\n",
       "      <td>5.058886</td>\n",
       "      <td>-3.307435</td>\n",
       "      <td>0.436880</td>\n",
       "      <td>...</td>\n",
       "      <td>0.466157</td>\n",
       "      <td>1.630875</td>\n",
       "      <td>1.174135</td>\n",
       "      <td>-0.001073</td>\n",
       "      <td>1.399297</td>\n",
       "      <td>-0.261938</td>\n",
       "      <td>-0.739536</td>\n",
       "      <td>-0.483205</td>\n",
       "      <td>-0.176433</td>\n",
       "      <td>-0.757240</td>\n",
       "    </tr>\n",
       "    <tr>\n",
       "      <th>2</th>\n",
       "      <td>-0.781501</td>\n",
       "      <td>0.803982</td>\n",
       "      <td>-0.796704</td>\n",
       "      <td>-0.705296</td>\n",
       "      <td>0.226236</td>\n",
       "      <td>1.671033</td>\n",
       "      <td>-0.111939</td>\n",
       "      <td>3.294637</td>\n",
       "      <td>0.623728</td>\n",
       "      <td>-0.057842</td>\n",
       "      <td>...</td>\n",
       "      <td>3.372810</td>\n",
       "      <td>-0.795524</td>\n",
       "      <td>-0.146628</td>\n",
       "      <td>-0.414360</td>\n",
       "      <td>1.021868</td>\n",
       "      <td>-2.176412</td>\n",
       "      <td>-0.591397</td>\n",
       "      <td>1.045638</td>\n",
       "      <td>-1.963504</td>\n",
       "      <td>-1.043506</td>\n",
       "    </tr>\n",
       "    <tr>\n",
       "      <th>3</th>\n",
       "      <td>0.634144</td>\n",
       "      <td>1.946768</td>\n",
       "      <td>-0.310336</td>\n",
       "      <td>-0.727075</td>\n",
       "      <td>0.231184</td>\n",
       "      <td>1.340657</td>\n",
       "      <td>0.193184</td>\n",
       "      <td>1.216390</td>\n",
       "      <td>0.577063</td>\n",
       "      <td>-0.710786</td>\n",
       "      <td>...</td>\n",
       "      <td>0.560703</td>\n",
       "      <td>0.423396</td>\n",
       "      <td>0.066237</td>\n",
       "      <td>0.454572</td>\n",
       "      <td>0.475338</td>\n",
       "      <td>0.042117</td>\n",
       "      <td>0.533075</td>\n",
       "      <td>0.286719</td>\n",
       "      <td>-0.106751</td>\n",
       "      <td>-0.321169</td>\n",
       "    </tr>\n",
       "    <tr>\n",
       "      <th>4</th>\n",
       "      <td>-2.342148</td>\n",
       "      <td>-4.307813</td>\n",
       "      <td>-1.531669</td>\n",
       "      <td>10.344352</td>\n",
       "      <td>-1.115489</td>\n",
       "      <td>-4.905705</td>\n",
       "      <td>1.532576</td>\n",
       "      <td>-2.487777</td>\n",
       "      <td>-0.326138</td>\n",
       "      <td>0.316620</td>\n",
       "      <td>...</td>\n",
       "      <td>-0.100255</td>\n",
       "      <td>-0.224349</td>\n",
       "      <td>0.201731</td>\n",
       "      <td>1.392999</td>\n",
       "      <td>0.317947</td>\n",
       "      <td>0.080995</td>\n",
       "      <td>0.526622</td>\n",
       "      <td>-1.687553</td>\n",
       "      <td>0.481665</td>\n",
       "      <td>0.524896</td>\n",
       "    </tr>\n",
       "    <tr>\n",
       "      <th>...</th>\n",
       "      <td>...</td>\n",
       "      <td>...</td>\n",
       "      <td>...</td>\n",
       "      <td>...</td>\n",
       "      <td>...</td>\n",
       "      <td>...</td>\n",
       "      <td>...</td>\n",
       "      <td>...</td>\n",
       "      <td>...</td>\n",
       "      <td>...</td>\n",
       "      <td>...</td>\n",
       "      <td>...</td>\n",
       "      <td>...</td>\n",
       "      <td>...</td>\n",
       "      <td>...</td>\n",
       "      <td>...</td>\n",
       "      <td>...</td>\n",
       "      <td>...</td>\n",
       "      <td>...</td>\n",
       "      <td>...</td>\n",
       "      <td>...</td>\n",
       "    </tr>\n",
       "    <tr>\n",
       "      <th>14877</th>\n",
       "      <td>-3.236728</td>\n",
       "      <td>-3.776356</td>\n",
       "      <td>0.731313</td>\n",
       "      <td>11.242042</td>\n",
       "      <td>-0.818368</td>\n",
       "      <td>-4.978538</td>\n",
       "      <td>1.276018</td>\n",
       "      <td>-2.196360</td>\n",
       "      <td>0.133484</td>\n",
       "      <td>0.072172</td>\n",
       "      <td>...</td>\n",
       "      <td>1.218419</td>\n",
       "      <td>-0.044956</td>\n",
       "      <td>0.596920</td>\n",
       "      <td>-0.267721</td>\n",
       "      <td>0.238718</td>\n",
       "      <td>0.025845</td>\n",
       "      <td>0.720587</td>\n",
       "      <td>-0.495549</td>\n",
       "      <td>0.391545</td>\n",
       "      <td>0.319638</td>\n",
       "    </tr>\n",
       "    <tr>\n",
       "      <th>14878</th>\n",
       "      <td>-0.454414</td>\n",
       "      <td>1.960780</td>\n",
       "      <td>-5.078403</td>\n",
       "      <td>-4.638245</td>\n",
       "      <td>15.000135</td>\n",
       "      <td>-9.958319</td>\n",
       "      <td>4.506625</td>\n",
       "      <td>3.070150</td>\n",
       "      <td>1.333184</td>\n",
       "      <td>1.545379</td>\n",
       "      <td>...</td>\n",
       "      <td>0.763653</td>\n",
       "      <td>0.540172</td>\n",
       "      <td>-0.237283</td>\n",
       "      <td>-0.341849</td>\n",
       "      <td>-0.216727</td>\n",
       "      <td>-0.084384</td>\n",
       "      <td>-0.690028</td>\n",
       "      <td>0.338033</td>\n",
       "      <td>0.101633</td>\n",
       "      <td>1.175854</td>\n",
       "    </tr>\n",
       "    <tr>\n",
       "      <th>14879</th>\n",
       "      <td>15.297396</td>\n",
       "      <td>1.816173</td>\n",
       "      <td>0.573599</td>\n",
       "      <td>2.291367</td>\n",
       "      <td>-0.149496</td>\n",
       "      <td>-0.411799</td>\n",
       "      <td>-1.377945</td>\n",
       "      <td>0.570640</td>\n",
       "      <td>0.545178</td>\n",
       "      <td>0.490377</td>\n",
       "      <td>...</td>\n",
       "      <td>0.420866</td>\n",
       "      <td>-0.477228</td>\n",
       "      <td>0.240083</td>\n",
       "      <td>-0.739634</td>\n",
       "      <td>0.416140</td>\n",
       "      <td>-0.147468</td>\n",
       "      <td>-0.029096</td>\n",
       "      <td>0.155589</td>\n",
       "      <td>-0.318747</td>\n",
       "      <td>0.093848</td>\n",
       "    </tr>\n",
       "    <tr>\n",
       "      <th>14880</th>\n",
       "      <td>-0.915233</td>\n",
       "      <td>-2.589119</td>\n",
       "      <td>-0.373830</td>\n",
       "      <td>-1.779382</td>\n",
       "      <td>3.155999</td>\n",
       "      <td>2.191517</td>\n",
       "      <td>-7.157706</td>\n",
       "      <td>-3.415802</td>\n",
       "      <td>-2.031069</td>\n",
       "      <td>-7.762990</td>\n",
       "      <td>...</td>\n",
       "      <td>-2.393818</td>\n",
       "      <td>0.272271</td>\n",
       "      <td>-0.936291</td>\n",
       "      <td>-0.702117</td>\n",
       "      <td>-0.924126</td>\n",
       "      <td>0.112363</td>\n",
       "      <td>-1.344059</td>\n",
       "      <td>2.085546</td>\n",
       "      <td>1.920558</td>\n",
       "      <td>1.250518</td>\n",
       "    </tr>\n",
       "    <tr>\n",
       "      <th>14881</th>\n",
       "      <td>-1.207082</td>\n",
       "      <td>-6.633179</td>\n",
       "      <td>6.541933</td>\n",
       "      <td>-3.637297</td>\n",
       "      <td>2.728356</td>\n",
       "      <td>4.095366</td>\n",
       "      <td>-0.603980</td>\n",
       "      <td>-4.789482</td>\n",
       "      <td>2.852005</td>\n",
       "      <td>11.175012</td>\n",
       "      <td>...</td>\n",
       "      <td>-0.454044</td>\n",
       "      <td>-0.016408</td>\n",
       "      <td>-0.139101</td>\n",
       "      <td>0.696287</td>\n",
       "      <td>1.183682</td>\n",
       "      <td>-0.447873</td>\n",
       "      <td>-0.171951</td>\n",
       "      <td>0.248468</td>\n",
       "      <td>0.551876</td>\n",
       "      <td>-0.033353</td>\n",
       "    </tr>\n",
       "  </tbody>\n",
       "</table>\n",
       "<p>14882 rows × 759 columns</p>\n",
       "</div>"
      ],
      "text/plain": [
       "             0         1         2          3          4         5    \\\n",
       "0      -0.907998 -0.326361  2.509258   0.603699  -0.609833  0.270167   \n",
       "1      -0.232965  2.202027 -2.198502   1.414625   0.421343  5.826403   \n",
       "2      -0.781501  0.803982 -0.796704  -0.705296   0.226236  1.671033   \n",
       "3       0.634144  1.946768 -0.310336  -0.727075   0.231184  1.340657   \n",
       "4      -2.342148 -4.307813 -1.531669  10.344352  -1.115489 -4.905705   \n",
       "...          ...       ...       ...        ...        ...       ...   \n",
       "14877  -3.236728 -3.776356  0.731313  11.242042  -0.818368 -4.978538   \n",
       "14878  -0.454414  1.960780 -5.078403  -4.638245  15.000135 -9.958319   \n",
       "14879  15.297396  1.816173  0.573599   2.291367  -0.149496 -0.411799   \n",
       "14880  -0.915233 -2.589119 -0.373830  -1.779382   3.155999  2.191517   \n",
       "14881  -1.207082 -6.633179  6.541933  -3.637297   2.728356  4.095366   \n",
       "\n",
       "            6         7         8          9    ...       749       750  \\\n",
       "0     -1.268939  1.739931  0.490681   1.918173  ... -0.122370 -0.318655   \n",
       "1      3.425454  5.058886 -3.307435   0.436880  ...  0.466157  1.630875   \n",
       "2     -0.111939  3.294637  0.623728  -0.057842  ...  3.372810 -0.795524   \n",
       "3      0.193184  1.216390  0.577063  -0.710786  ...  0.560703  0.423396   \n",
       "4      1.532576 -2.487777 -0.326138   0.316620  ... -0.100255 -0.224349   \n",
       "...         ...       ...       ...        ...  ...       ...       ...   \n",
       "14877  1.276018 -2.196360  0.133484   0.072172  ...  1.218419 -0.044956   \n",
       "14878  4.506625  3.070150  1.333184   1.545379  ...  0.763653  0.540172   \n",
       "14879 -1.377945  0.570640  0.545178   0.490377  ...  0.420866 -0.477228   \n",
       "14880 -7.157706 -3.415802 -2.031069  -7.762990  ... -2.393818  0.272271   \n",
       "14881 -0.603980 -4.789482  2.852005  11.175012  ... -0.454044 -0.016408   \n",
       "\n",
       "            751       752       753       754       755       756       757  \\\n",
       "0     -0.051879  0.537901  0.792013 -0.307227  0.007397 -0.055104  0.428731   \n",
       "1      1.174135 -0.001073  1.399297 -0.261938 -0.739536 -0.483205 -0.176433   \n",
       "2     -0.146628 -0.414360  1.021868 -2.176412 -0.591397  1.045638 -1.963504   \n",
       "3      0.066237  0.454572  0.475338  0.042117  0.533075  0.286719 -0.106751   \n",
       "4      0.201731  1.392999  0.317947  0.080995  0.526622 -1.687553  0.481665   \n",
       "...         ...       ...       ...       ...       ...       ...       ...   \n",
       "14877  0.596920 -0.267721  0.238718  0.025845  0.720587 -0.495549  0.391545   \n",
       "14878 -0.237283 -0.341849 -0.216727 -0.084384 -0.690028  0.338033  0.101633   \n",
       "14879  0.240083 -0.739634  0.416140 -0.147468 -0.029096  0.155589 -0.318747   \n",
       "14880 -0.936291 -0.702117 -0.924126  0.112363 -1.344059  2.085546  1.920558   \n",
       "14881 -0.139101  0.696287  1.183682 -0.447873 -0.171951  0.248468  0.551876   \n",
       "\n",
       "            758  \n",
       "0      0.077987  \n",
       "1     -0.757240  \n",
       "2     -1.043506  \n",
       "3     -0.321169  \n",
       "4      0.524896  \n",
       "...         ...  \n",
       "14877  0.319638  \n",
       "14878  1.175854  \n",
       "14879  0.093848  \n",
       "14880  1.250518  \n",
       "14881 -0.033353  \n",
       "\n",
       "[14882 rows x 759 columns]"
      ]
     },
     "execution_count": 22,
     "metadata": {},
     "output_type": "execute_result"
    }
   ],
   "source": [
    "df_morgan"
   ]
  },
  {
   "cell_type": "code",
   "execution_count": 23,
   "metadata": {},
   "outputs": [
    {
     "data": {
      "text/plain": [
       "0.9000440591593575"
      ]
     },
     "execution_count": 23,
     "metadata": {},
     "output_type": "execute_result"
    }
   ],
   "source": [
    "sum(pca.explained_variance_ratio_)"
   ]
  },
  {
   "cell_type": "markdown",
   "metadata": {
    "tags": []
   },
   "source": [
    "## Обучение"
   ]
  },
  {
   "cell_type": "markdown",
   "metadata": {},
   "source": [
    "Для обоих дескрипторов, для всех взятых из scikit-learn моделей машинного обучения, будем для обучения и оценки качества модели использовать кросс-валидацию с числом фолдов равным 10."
   ]
  },
  {
   "cell_type": "markdown",
   "metadata": {
    "tags": []
   },
   "source": [
    "### По MACCS дескриптору"
   ]
  },
  {
   "cell_type": "code",
   "execution_count": 24,
   "metadata": {
    "id": "ajGeXQUQCRpU"
   },
   "outputs": [],
   "source": [
    "X = df_maccs\n",
    "y = df_gp120['energy']"
   ]
  },
  {
   "cell_type": "markdown",
   "metadata": {
    "tags": []
   },
   "source": [
    "#### Линейная регрессия"
   ]
  },
  {
   "cell_type": "code",
   "execution_count": 25,
   "metadata": {
    "id": "YaDwGTiPCPhY"
   },
   "outputs": [],
   "source": [
    "model = LinearRegression()"
   ]
  },
  {
   "cell_type": "code",
   "execution_count": 26,
   "metadata": {},
   "outputs": [],
   "source": [
    "maccs_lr = pd.DataFrame(\n",
    "    cross_validate(\n",
    "        model, X, y, cv=10, \n",
    "        scoring={\n",
    "            'r2': 'r2', \n",
    "            'nmae': 'neg_mean_absolute_error', \n",
    "            'me': 'max_error', \n",
    "            'mps': max_perc_score\n",
    "        }\n",
    "    )\n",
    ").drop(columns=['fit_time', 'score_time'])"
   ]
  },
  {
   "cell_type": "markdown",
   "metadata": {
    "tags": []
   },
   "source": [
    "#### Дерево решений"
   ]
  },
  {
   "cell_type": "code",
   "execution_count": 27,
   "metadata": {
    "id": "YaDwGTiPCPhY"
   },
   "outputs": [],
   "source": [
    "model = DecisionTreeRegressor()"
   ]
  },
  {
   "cell_type": "code",
   "execution_count": 28,
   "metadata": {},
   "outputs": [],
   "source": [
    "maccs_dt = pd.DataFrame(\n",
    "    cross_validate(\n",
    "        model, X, y, cv=10, \n",
    "        scoring={\n",
    "            'r2': 'r2', \n",
    "            'nmae': 'neg_mean_absolute_error', \n",
    "            'me': 'max_error', \n",
    "            'mps': max_perc_score\n",
    "        }\n",
    "    )\n",
    ").drop(columns=['fit_time', 'score_time'])"
   ]
  },
  {
   "cell_type": "markdown",
   "metadata": {
    "tags": []
   },
   "source": [
    "#### Случайный лес"
   ]
  },
  {
   "cell_type": "code",
   "execution_count": 29,
   "metadata": {
    "id": "YaDwGTiPCPhY"
   },
   "outputs": [],
   "source": [
    "model = RandomForestRegressor(n_estimators=10)"
   ]
  },
  {
   "cell_type": "code",
   "execution_count": 30,
   "metadata": {},
   "outputs": [],
   "source": [
    "maccs_rf = pd.DataFrame(\n",
    "    cross_validate(\n",
    "        model, X, y, cv=10, \n",
    "        scoring={\n",
    "            'r2': 'r2', \n",
    "            'nmae': 'neg_mean_absolute_error', \n",
    "            'me': 'max_error', \n",
    "            'mps': max_perc_score\n",
    "        }\n",
    "    )\n",
    ").drop(columns=['fit_time', 'score_time'])"
   ]
  },
  {
   "cell_type": "markdown",
   "metadata": {
    "tags": []
   },
   "source": [
    "#### Метод опорных векторов"
   ]
  },
  {
   "cell_type": "code",
   "execution_count": 31,
   "metadata": {
    "id": "YaDwGTiPCPhY"
   },
   "outputs": [],
   "source": [
    "model = SVR()"
   ]
  },
  {
   "cell_type": "code",
   "execution_count": 32,
   "metadata": {},
   "outputs": [],
   "source": [
    "maccs_svm = pd.DataFrame(\n",
    "    cross_validate(\n",
    "        model, X, y, cv=10, \n",
    "        scoring={\n",
    "            'r2': 'r2', \n",
    "            'nmae': 'neg_mean_absolute_error', \n",
    "            'me': 'max_error', \n",
    "            'mps': max_perc_score\n",
    "        }\n",
    "    )\n",
    ").drop(columns=['fit_time', 'score_time'])"
   ]
  },
  {
   "cell_type": "markdown",
   "metadata": {
    "tags": []
   },
   "source": [
    "#### Метод k-ближайших соседей"
   ]
  },
  {
   "cell_type": "code",
   "execution_count": 33,
   "metadata": {
    "id": "YaDwGTiPCPhY"
   },
   "outputs": [],
   "source": [
    "model = KNeighborsRegressor()"
   ]
  },
  {
   "cell_type": "code",
   "execution_count": 34,
   "metadata": {},
   "outputs": [],
   "source": [
    "maccs_knn = pd.DataFrame(\n",
    "    cross_validate(\n",
    "        model, X, y, cv=10, \n",
    "        scoring={\n",
    "            'r2': 'r2', \n",
    "            'nmae': 'neg_mean_absolute_error', \n",
    "            'me': 'max_error', \n",
    "            'mps': max_perc_score\n",
    "        }\n",
    "    )\n",
    ").drop(columns=['fit_time', 'score_time'])"
   ]
  },
  {
   "cell_type": "markdown",
   "metadata": {
    "tags": []
   },
   "source": [
    "### По Morgan дескриптору"
   ]
  },
  {
   "cell_type": "code",
   "execution_count": 35,
   "metadata": {
    "id": "ajGeXQUQCRpU"
   },
   "outputs": [],
   "source": [
    "X = df_morgan\n",
    "y = df_gp120['energy']"
   ]
  },
  {
   "cell_type": "markdown",
   "metadata": {
    "tags": []
   },
   "source": [
    "#### Линейная регрессия"
   ]
  },
  {
   "cell_type": "code",
   "execution_count": 36,
   "metadata": {
    "id": "YaDwGTiPCPhY"
   },
   "outputs": [],
   "source": [
    "model = LinearRegression()"
   ]
  },
  {
   "cell_type": "code",
   "execution_count": 37,
   "metadata": {},
   "outputs": [],
   "source": [
    "morgan_lr = pd.DataFrame(\n",
    "    cross_validate(\n",
    "        model, X, y, cv=10, \n",
    "        scoring={\n",
    "            'r2': 'r2', \n",
    "            'nmae': 'neg_mean_absolute_error', \n",
    "            'me': 'max_error', \n",
    "            'mps': max_perc_score\n",
    "        }\n",
    "    )\n",
    ").drop(columns=['fit_time', 'score_time'])"
   ]
  },
  {
   "cell_type": "markdown",
   "metadata": {
    "tags": []
   },
   "source": [
    "#### Дерево решений"
   ]
  },
  {
   "cell_type": "code",
   "execution_count": 38,
   "metadata": {
    "id": "YaDwGTiPCPhY"
   },
   "outputs": [],
   "source": [
    "model = DecisionTreeRegressor()"
   ]
  },
  {
   "cell_type": "code",
   "execution_count": 39,
   "metadata": {},
   "outputs": [],
   "source": [
    "morgan_dt = pd.DataFrame(\n",
    "    cross_validate(\n",
    "        model, X, y, cv=10, \n",
    "        scoring={\n",
    "            'r2': 'r2', \n",
    "            'nmae': 'neg_mean_absolute_error', \n",
    "            'me': 'max_error', \n",
    "            'mps': max_perc_score\n",
    "        }\n",
    "    )\n",
    ").drop(columns=['fit_time', 'score_time'])"
   ]
  },
  {
   "cell_type": "markdown",
   "metadata": {
    "tags": []
   },
   "source": [
    "#### Случайный лес"
   ]
  },
  {
   "cell_type": "code",
   "execution_count": 40,
   "metadata": {
    "id": "YaDwGTiPCPhY"
   },
   "outputs": [],
   "source": [
    "model = RandomForestRegressor(n_estimators=10)"
   ]
  },
  {
   "cell_type": "code",
   "execution_count": 41,
   "metadata": {},
   "outputs": [],
   "source": [
    "morgan_rf = pd.DataFrame(\n",
    "    cross_validate(\n",
    "        model, X, y, cv=10, \n",
    "        scoring={\n",
    "            'r2': 'r2', \n",
    "            'nmae': 'neg_mean_absolute_error', \n",
    "            'me': 'max_error', \n",
    "            'mps': max_perc_score\n",
    "        }\n",
    "    )\n",
    ").drop(columns=['fit_time', 'score_time'])"
   ]
  },
  {
   "cell_type": "markdown",
   "metadata": {
    "tags": []
   },
   "source": [
    "#### Метод опорных векторов"
   ]
  },
  {
   "cell_type": "code",
   "execution_count": 42,
   "metadata": {
    "id": "YaDwGTiPCPhY"
   },
   "outputs": [],
   "source": [
    "model = SVR()"
   ]
  },
  {
   "cell_type": "code",
   "execution_count": 43,
   "metadata": {},
   "outputs": [],
   "source": [
    "morgan_svm = pd.DataFrame(\n",
    "    cross_validate(\n",
    "        model, X, y, cv=10, \n",
    "        scoring={\n",
    "            'r2': 'r2', \n",
    "            'nmae': 'neg_mean_absolute_error', \n",
    "            'me': 'max_error', \n",
    "            'mps': max_perc_score\n",
    "        }\n",
    "    )\n",
    ").drop(columns=['fit_time', 'score_time'])"
   ]
  },
  {
   "cell_type": "markdown",
   "metadata": {
    "tags": []
   },
   "source": [
    "#### Метод k-ближайших соседей"
   ]
  },
  {
   "cell_type": "code",
   "execution_count": 44,
   "metadata": {
    "id": "YaDwGTiPCPhY"
   },
   "outputs": [],
   "source": [
    "model = KNeighborsRegressor()"
   ]
  },
  {
   "cell_type": "code",
   "execution_count": 45,
   "metadata": {},
   "outputs": [],
   "source": [
    "morgan_knn = pd.DataFrame(\n",
    "    cross_validate(\n",
    "        model, X, y, cv=10, \n",
    "        scoring={\n",
    "            'r2': 'r2', \n",
    "            'nmae': 'neg_mean_absolute_error', \n",
    "            'me': 'max_error', \n",
    "            'mps': max_perc_score\n",
    "        }\n",
    "    )\n",
    ").drop(columns=['fit_time', 'score_time'])"
   ]
  },
  {
   "cell_type": "markdown",
   "metadata": {
    "tags": []
   },
   "source": [
    "## Сравнение"
   ]
  },
  {
   "cell_type": "markdown",
   "metadata": {
    "tags": []
   },
   "source": [
    "### Сравнение моделей для MACCS дескриптора"
   ]
  },
  {
   "cell_type": "markdown",
   "metadata": {
    "tags": []
   },
   "source": [
    "#### По метрике r-squared"
   ]
  },
  {
   "cell_type": "code",
   "execution_count": 46,
   "metadata": {},
   "outputs": [
    {
     "data": {
      "text/plain": [
       "<AxesSubplot:>"
      ]
     },
     "execution_count": 46,
     "metadata": {},
     "output_type": "execute_result"
    },
    {
     "data": {
      "image/png": "[encoded data removed]",
      "text/plain": [
       "<Figure size 1152x360 with 1 Axes>"
      ]
     },
     "metadata": {},
     "output_type": "display_data"
    }
   ],
   "source": [
    "sns.boxplot(\n",
    "    data=pd.DataFrame(\n",
    "        data={\n",
    "            'Линейная регрессия': maccs_lr['test_r2'], \n",
    "            'Дерево решений': maccs_dt['test_r2'],\n",
    "            'Случайный лес': maccs_rf['test_r2'],\n",
    "            'Метод опорных векторов': maccs_svm['test_r2'],\n",
    "            'Метод k-ближайших соседей': maccs_knn['test_r2'],\n",
    "        }\n",
    "    )\n",
    ")"
   ]
  },
  {
   "cell_type": "markdown",
   "metadata": {
    "tags": []
   },
   "source": [
    "#### По метрике mean absolute error"
   ]
  },
  {
   "cell_type": "code",
   "execution_count": 47,
   "metadata": {},
   "outputs": [
    {
     "data": {
      "text/plain": [
       "<AxesSubplot:>"
      ]
     },
     "execution_count": 47,
     "metadata": {},
     "output_type": "execute_result"
    },
    {
     "data": {
      "image/png": "[encoded data removed]",
      "text/plain": [
       "<Figure size 1152x360 with 1 Axes>"
      ]
     },
     "metadata": {},
     "output_type": "display_data"
    }
   ],
   "source": [
    "sns.boxplot(\n",
    "    data=pd.DataFrame(\n",
    "        data={\n",
    "            'Линейная регрессия': -maccs_lr['test_nmae'], \n",
    "            'Дерево решений': -maccs_dt['test_nmae'],\n",
    "            'Случайный лес': -maccs_rf['test_nmae'],\n",
    "            'Метод опорных векторов': -maccs_svm['test_nmae'],\n",
    "            'Метод k-ближайших соседей': -maccs_knn['test_nmae'],\n",
    "        }\n",
    "    )\n",
    ")"
   ]
  },
  {
   "cell_type": "markdown",
   "metadata": {
    "tags": []
   },
   "source": [
    "#### По метрике max error"
   ]
  },
  {
   "cell_type": "code",
   "execution_count": 48,
   "metadata": {},
   "outputs": [
    {
     "data": {
      "text/plain": [
       "<AxesSubplot:>"
      ]
     },
     "execution_count": 48,
     "metadata": {},
     "output_type": "execute_result"
    },
    {
     "data": {
      "image/png": "[encoded data removed]",
      "text/plain": [
       "<Figure size 1152x360 with 1 Axes>"
      ]
     },
     "metadata": {},
     "output_type": "display_data"
    }
   ],
   "source": [
    "sns.boxplot(\n",
    "    data=pd.DataFrame(\n",
    "        data={\n",
    "            'Линейная регрессия': -maccs_lr['test_me'], \n",
    "            'Дерево решений': -maccs_dt['test_me'],\n",
    "            'Случайный лес': -maccs_rf['test_me'],\n",
    "            'Метод опорных векторов': -maccs_svm['test_me'],\n",
    "            'Метод k-ближайших соседей': -maccs_knn['test_me'],\n",
    "        }\n",
    "    )\n",
    ")"
   ]
  },
  {
   "cell_type": "markdown",
   "metadata": {
    "tags": []
   },
   "source": [
    "#### По метрике max perc score"
   ]
  },
  {
   "cell_type": "code",
   "execution_count": 49,
   "metadata": {},
   "outputs": [
    {
     "data": {
      "text/plain": [
       "<AxesSubplot:>"
      ]
     },
     "execution_count": 49,
     "metadata": {},
     "output_type": "execute_result"
    },
    {
     "data": {
      "image/png": "[encoded data removed]",
      "text/plain": [
       "<Figure size 1152x360 with 1 Axes>"
      ]
     },
     "metadata": {},
     "output_type": "display_data"
    }
   ],
   "source": [
    "sns.boxplot(\n",
    "    data=pd.DataFrame(\n",
    "        data={\n",
    "            'Линейная регрессия': -maccs_lr['test_mps'], \n",
    "            'Дерево решений': -maccs_dt['test_mps'],\n",
    "            'Случайный лес': -maccs_rf['test_mps'],\n",
    "            'Метод опорных векторов': -maccs_svm['test_mps'],\n",
    "            'Метод k-ближайших соседей': -maccs_knn['test_mps'],\n",
    "        }\n",
    "    )\n",
    ")"
   ]
  },
  {
   "cell_type": "markdown",
   "metadata": {
    "tags": []
   },
   "source": [
    "### Сравнение моделей для Morgan дескриптора"
   ]
  },
  {
   "cell_type": "markdown",
   "metadata": {
    "tags": []
   },
   "source": [
    "#### По метрике r-squared"
   ]
  },
  {
   "cell_type": "code",
   "execution_count": 50,
   "metadata": {},
   "outputs": [
    {
     "data": {
      "text/plain": [
       "<AxesSubplot:>"
      ]
     },
     "execution_count": 50,
     "metadata": {},
     "output_type": "execute_result"
    },
    {
     "data": {
      "image/png": "[encoded data removed]",
      "text/plain": [
       "<Figure size 1152x360 with 1 Axes>"
      ]
     },
     "metadata": {},
     "output_type": "display_data"
    }
   ],
   "source": [
    "sns.boxplot(\n",
    "    data=pd.DataFrame(\n",
    "        data={\n",
    "            'Линейная регрессия': morgan_lr['test_r2'], \n",
    "            'Дерево решений': morgan_dt['test_r2'],\n",
    "            'Случайный лес': morgan_rf['test_r2'],\n",
    "            'Метод опорных векторов': morgan_svm['test_r2'],\n",
    "            'Метод k-ближайших соседей': morgan_knn['test_r2'],\n",
    "        }\n",
    "    )\n",
    ")"
   ]
  },
  {
   "cell_type": "markdown",
   "metadata": {
    "tags": []
   },
   "source": [
    "#### По метрике mean absolute error"
   ]
  },
  {
   "cell_type": "code",
   "execution_count": 51,
   "metadata": {},
   "outputs": [
    {
     "data": {
      "text/plain": [
       "<AxesSubplot:>"
      ]
     },
     "execution_count": 51,
     "metadata": {},
     "output_type": "execute_result"
    },
    {
     "data": {
      "image/png": "[encoded data removed]",
      "text/plain": [
       "<Figure size 1152x360 with 1 Axes>"
      ]
     },
     "metadata": {},
     "output_type": "display_data"
    }
   ],
   "source": [
    "sns.boxplot(\n",
    "    data=pd.DataFrame(\n",
    "        data={\n",
    "            'Линейная регрессия': -morgan_lr['test_nmae'], \n",
    "            'Дерево решений': -morgan_dt['test_nmae'],\n",
    "            'Случайный лес': -morgan_rf['test_nmae'],\n",
    "            'Метод опорных векторов': -morgan_svm['test_nmae'],\n",
    "            'Метод k-ближайших соседей': -morgan_knn['test_nmae'],\n",
    "        }\n",
    "    )\n",
    ")"
   ]
  },
  {
   "cell_type": "markdown",
   "metadata": {
    "tags": []
   },
   "source": [
    "#### По метрике max error"
   ]
  },
  {
   "cell_type": "code",
   "execution_count": 52,
   "metadata": {},
   "outputs": [
    {
     "data": {
      "text/plain": [
       "<AxesSubplot:>"
      ]
     },
     "execution_count": 52,
     "metadata": {},
     "output_type": "execute_result"
    },
    {
     "data": {
      "image/png": "[encoded data removed]",
      "text/plain": [
       "<Figure size 1152x360 with 1 Axes>"
      ]
     },
     "metadata": {},
     "output_type": "display_data"
    }
   ],
   "source": [
    "sns.boxplot(\n",
    "    data=pd.DataFrame(\n",
    "        data={\n",
    "            'Линейная регрессия': -morgan_lr['test_me'], \n",
    "            'Дерево решений': -morgan_dt['test_me'],\n",
    "            'Случайный лес': -morgan_rf['test_me'],\n",
    "            'Метод опорных векторов': -morgan_svm['test_me'],\n",
    "            'Метод k-ближайших соседей': -morgan_knn['test_me'],\n",
    "        }\n",
    "    )\n",
    ")"
   ]
  },
  {
   "cell_type": "markdown",
   "metadata": {
    "tags": []
   },
   "source": [
    "#### По метрике max perc score"
   ]
  },
  {
   "cell_type": "code",
   "execution_count": 53,
   "metadata": {},
   "outputs": [
    {
     "data": {
      "text/plain": [
       "<AxesSubplot:>"
      ]
     },
     "execution_count": 53,
     "metadata": {},
     "output_type": "execute_result"
    },
    {
     "data": {
      "image/png": "[encoded data removed]",
      "text/plain": [
       "<Figure size 1152x360 with 1 Axes>"
      ]
     },
     "metadata": {},
     "output_type": "display_data"
    }
   ],
   "source": [
    "sns.boxplot(\n",
    "    data=pd.DataFrame(\n",
    "        data={\n",
    "            'Линейная регрессия': -morgan_lr['test_mps'], \n",
    "            'Дерево решений': -morgan_dt['test_mps'],\n",
    "            'Случайный лес': -morgan_rf['test_mps'],\n",
    "            'Метод опорных векторов': -morgan_svm['test_mps'],\n",
    "            'Метод k-ближайших соседей': -morgan_knn['test_mps'],\n",
    "        }\n",
    "    )\n",
    ")"
   ]
  },
  {
   "cell_type": "markdown",
   "metadata": {
    "jp-MarkdownHeadingCollapsed": true,
    "tags": []
   },
   "source": [
    "### Сравнение дескрипторов MACSS и Morgan по модели SVM"
   ]
  },
  {
   "cell_type": "markdown",
   "metadata": {},
   "source": [
    "Заметим, что лучшей моделью, как по максимизирующим, так и по минимизирующим метрикам, оказался метод опорных векторов."
   ]
  },
  {
   "cell_type": "markdown",
   "metadata": {
    "tags": []
   },
   "source": [
    "#### По метрике r-squared"
   ]
  },
  {
   "cell_type": "code",
   "execution_count": 54,
   "metadata": {},
   "outputs": [
    {
     "data": {
      "text/plain": [
       "<AxesSubplot:>"
      ]
     },
     "execution_count": 54,
     "metadata": {},
     "output_type": "execute_result"
    },
    {
     "data": {
      "image/png": "[encoded data removed]",
      "text/plain": [
       "<Figure size 1152x360 with 1 Axes>"
      ]
     },
     "metadata": {},
     "output_type": "display_data"
    }
   ],
   "source": [
    "sns.boxplot(\n",
    "    data=pd.DataFrame(\n",
    "        data={\n",
    "            'MACCS': maccs_svm['test_r2'],\n",
    "            'Morgan': morgan_svm['test_r2']\n",
    "        }\n",
    "    )\n",
    ")"
   ]
  },
  {
   "cell_type": "markdown",
   "metadata": {
    "tags": []
   },
   "source": [
    "#### По метрике mean absolute error"
   ]
  },
  {
   "cell_type": "code",
   "execution_count": 55,
   "metadata": {},
   "outputs": [
    {
     "data": {
      "text/plain": [
       "<AxesSubplot:>"
      ]
     },
     "execution_count": 55,
     "metadata": {},
     "output_type": "execute_result"
    },
    {
     "data": {
      "image/png": "[encoded data removed]",
      "text/plain": [
       "<Figure size 1152x360 with 1 Axes>"
      ]
     },
     "metadata": {},
     "output_type": "display_data"
    }
   ],
   "source": [
    "sns.boxplot(\n",
    "    data=pd.DataFrame(\n",
    "        data={\n",
    "            'MACCS': -maccs_svm['test_nmae'],\n",
    "            'Morgan': -morgan_svm['test_nmae']\n",
    "        }\n",
    "    )\n",
    ")"
   ]
  },
  {
   "cell_type": "markdown",
   "metadata": {
    "tags": []
   },
   "source": [
    "#### По метрике max error"
   ]
  },
  {
   "cell_type": "code",
   "execution_count": 56,
   "metadata": {},
   "outputs": [
    {
     "data": {
      "text/plain": [
       "<AxesSubplot:>"
      ]
     },
     "execution_count": 56,
     "metadata": {},
     "output_type": "execute_result"
    },
    {
     "data": {
      "image/png": "[encoded data removed]",
      "text/plain": [
       "<Figure size 1152x360 with 1 Axes>"
      ]
     },
     "metadata": {},
     "output_type": "display_data"
    }
   ],
   "source": [
    "sns.boxplot(\n",
    "    data=pd.DataFrame(\n",
    "        data={\n",
    "            'MACCS': -maccs_svm['test_me'],\n",
    "            'Morgan': -morgan_svm['test_me']\n",
    "        }\n",
    "    )\n",
    ")"
   ]
  },
  {
   "cell_type": "markdown",
   "metadata": {
    "tags": []
   },
   "source": [
    "#### По метрике max perc score"
   ]
  },
  {
   "cell_type": "code",
   "execution_count": 57,
   "metadata": {},
   "outputs": [
    {
     "data": {
      "text/plain": [
       "<AxesSubplot:>"
      ]
     },
     "execution_count": 57,
     "metadata": {},
     "output_type": "execute_result"
    },
    {
     "data": {
      "image/png": "[encoded data removed]",
      "text/plain": [
       "<Figure size 1152x360 with 1 Axes>"
      ]
     },
     "metadata": {},
     "output_type": "display_data"
    }
   ],
   "source": [
    "sns.boxplot(\n",
    "    data=pd.DataFrame(\n",
    "        data={\n",
    "            'MACCS': -maccs_svm['test_mps'],\n",
    "            'Morgan': -morgan_svm['test_mps']\n",
    "        }\n",
    "    )\n",
    ")"
   ]
  },
  {
   "cell_type": "markdown",
   "metadata": {
    "tags": []
   },
   "source": [
    "## Заключение"
   ]
  },
  {
   "cell_type": "markdown",
   "metadata": {},
   "source": [
    "В ходе работы над курсовым проектом:\n",
    "- Изучены способы представления молекул для последующего применения машинного обучения: SMILES и дескрипторы MACCS и Morgan\n",
    "\n",
    "- Изучена документация библиотеки RDKit для работы с дескрипторами\n",
    "- По имеющимся данным о SMILES лигандов белка gp120 сгенерированы фингерпринты\n",
    "- Эти фингерпринты преобразованы с помошью метода главных компонент\n",
    "- Обучены модели машинного обучения: линейная регрессия, дерево решений, случайный лес из десяти деревьев, метод опорных векторов, метод $k$-ближайших соседей.\n",
    "- Проведено сравнение результатов обучения моделей. Сначала между моделями для каждого дескриптора в отдельности, а затем между дескрипторами для лучшей модели."
   ]
  },
  {
   "cell_type": "markdown",
   "metadata": {},
   "source": [
    "По итогам сравнения можно сделать вывод, что обученные с использованием дескриптора Morgan модели показывают лучшее качество предсказания энергии связывания по всем опробованным метрикам."
   ]
  },
  {
   "cell_type": "markdown",
   "metadata": {
    "tags": []
   },
   "source": [
    "## Список использованных источников"
   ]
  },
  {
   "cell_type": "markdown",
   "metadata": {},
   "source": [
    "1. [SMILES, a chemical language and information system. 1. Introduction to methodology and encoding rules](https://pubs.acs.org/doi/abs/10.1021/ci00057a005) / David Weininger // Journal of Chemical Information and Computer Sciences. - 1988. - Vol. 28, № 1. - P. 31-36.\n",
    "\n",
    "2. [Reoptimization of MDL keys for use in drug discovery](https://pubs.acs.org/doi/10.1021/ci010132r) / Joseph L. Durant [et al.] // Journal of Chemical Information and Computer Sciences. - 2002. - Vol. 42, № 6. - P. 1273-1280.\n",
    "3. [Extended-Connectivity Fingerprints](https://pubs.acs.org/doi/abs/10.1021/ci100050t) / David Rogers, Mathew Hahn // Journal of Chemical Information and Modeling. - 2010. - Vol. 50, № 5. - P. 742-754.\n",
    "4. [RDKit: Open-Source Cheminformatics Software](http://rdkit.org) [Electronic resource] / RDKit. - 2021. - Mode of access: https://rdkit.org. - Date of access: 04.10.2021.\n",
    "5. [Scikit-learn: Machine Learning in Python](https://jmlr.csail.mit.edu/papers/v12/pedregosa11a.html) / Fabian Pedregosa [et al.] // Journal of Machine Learning Research. - 2011. - Vol. 12, № 85. - P. 2825-2830."
   ]
  }
 ],
 "metadata": {
  "colab": {
   "collapsed_sections": [],
   "name": "kursach_v1.ipynb",
   "provenance": []
  },
  "kernelspec": {
   "display_name": "Python 3 (ipykernel)",
   "language": "python",
   "name": "python3"
  },
  "language_info": {
   "codemirror_mode": {
    "name": "ipython",
    "version": 3
   },
   "file_extension": ".py",
   "mimetype": "text/x-python",
   "name": "python",
   "nbconvert_exporter": "python",
   "pygments_lexer": "ipython3",
   "version": "3.10.2"
  }
 },
 "nbformat": 4,
 "nbformat_minor": 4
}
